{
  "nbformat": 4,
  "nbformat_minor": 0,
  "metadata": {
    "colab": {
      "provenance": []
    },
    "kernelspec": {
      "name": "python3",
      "display_name": "Python 3"
    },
    "language_info": {
      "name": "python"
    }
  },
  "cells": [
    {
      "cell_type": "markdown",
      "source": [
        "# Job Posting Fake Detection\n",
        "## Note Book 2 (_Vectorization & Modeling_)"
      ],
      "metadata": {
        "id": "_aMFAO5YIv4s"
      }
    },
    {
      "cell_type": "markdown",
      "source": [
        "## Installing packages"
      ],
      "metadata": {
        "id": "EP7-6Zr9IvvT"
      }
    },
    {
      "cell_type": "code",
      "source": [
        "! pip install nltk"
      ],
      "metadata": {
        "colab": {
          "base_uri": "https://localhost:8080/"
        },
        "id": "LCjzglyKF_tt",
        "outputId": "633f9906-b41b-4743-889f-fb92cec6f3d7"
      },
      "execution_count": 1,
      "outputs": [
        {
          "output_type": "stream",
          "name": "stdout",
          "text": [
            "Looking in indexes: https://pypi.org/simple, https://us-python.pkg.dev/colab-wheels/public/simple/\n",
            "Requirement already satisfied: nltk in /usr/local/lib/python3.10/dist-packages (3.8.1)\n",
            "Requirement already satisfied: joblib in /usr/local/lib/python3.10/dist-packages (from nltk) (1.2.0)\n",
            "Requirement already satisfied: click in /usr/local/lib/python3.10/dist-packages (from nltk) (8.1.3)\n",
            "Requirement already satisfied: tqdm in /usr/local/lib/python3.10/dist-packages (from nltk) (4.65.0)\n",
            "Requirement already satisfied: regex>=2021.8.3 in /usr/local/lib/python3.10/dist-packages (from nltk) (2022.10.31)\n"
          ]
        }
      ]
    },
    {
      "cell_type": "markdown",
      "source": [
        "## Importing libraries"
      ],
      "metadata": {
        "id": "vGcwrJ-oI25b"
      }
    },
    {
      "cell_type": "code",
      "source": [
        "import re\n",
        "from nltk.corpus import stopwords \n",
        "import string \n",
        "from nltk.stem import WordNetLemmatizer\n",
        "\n",
        "from sklearn.ensemble import RandomForestClassifier ,ExtraTreesClassifier\n",
        "from sklearn.tree import DecisionTreeClassifier ,ExtraTreeClassifier\n",
        "from sklearn.neighbors import KNeighborsClassifier\n",
        "from sklearn.linear_model import LogisticRegression\n",
        "from sklearn.model_selection import train_test_split\n",
        "from sklearn.metrics import accuracy_score ,recall_score,precision_score,f1_score ,classification_report, r2_score ,confusion_matrix\n",
        "from sklearn.preprocessing import StandardScaler\n",
        "from sklearn.naive_bayes import GaussianNB\n",
        "from sklearn.model_selection import GridSearchCV\n",
        "from sklearn.metrics import accuracy_score, classification_report\n",
        "from sklearn.linear_model import LogisticRegression\n",
        "from sklearn.model_selection import GridSearchCV, train_test_split\n",
        "from sklearn.neighbors import KNeighborsClassifier\n",
        "from sklearn.model_selection import GridSearchCV\n",
        "from sklearn.tree import DecisionTreeClassifier\n",
        "from sklearn.model_selection import GridSearchCV\n",
        "from sklearn.model_selection import GridSearchCV\n",
        "from sklearn.ensemble import RandomForestClassifier\n",
        "\n",
        "import pandas as pd\n",
        "import numpy as np\n",
        "import matplotlib.pyplot as plt\n",
        "import seaborn as sns\n",
        "%matplotlib inline\n",
        "\n",
        "import nltk\n",
        "nltk.download()"
      ],
      "metadata": {
        "colab": {
          "base_uri": "https://localhost:8080/"
        },
        "id": "KzLAAxooF2zz",
        "outputId": "388f993d-cf8d-4e9a-bfcd-a0ee59f136ca"
      },
      "execution_count": 2,
      "outputs": [
        {
          "name": "stdout",
          "output_type": "stream",
          "text": [
            "NLTK Downloader\n",
            "---------------------------------------------------------------------------\n",
            "    d) Download   l) List    u) Update   c) Config   h) Help   q) Quit\n",
            "---------------------------------------------------------------------------\n",
            "Downloader> d\n",
            "\n",
            "Download which package (l=list; x=cancel)?\n",
            "  Identifier> stopwords\n"
          ]
        },
        {
          "output_type": "stream",
          "name": "stderr",
          "text": [
            "    Downloading package stopwords to /root/nltk_data...\n",
            "      Unzipping corpora/stopwords.zip.\n"
          ]
        },
        {
          "name": "stdout",
          "output_type": "stream",
          "text": [
            "\n",
            "---------------------------------------------------------------------------\n",
            "    d) Download   l) List    u) Update   c) Config   h) Help   q) Quit\n",
            "---------------------------------------------------------------------------\n",
            "Downloader> q\n"
          ]
        },
        {
          "output_type": "execute_result",
          "data": {
            "text/plain": [
              "True"
            ]
          },
          "metadata": {},
          "execution_count": 2
        }
      ]
    },
    {
      "cell_type": "markdown",
      "source": [
        "## Class For the function we might use"
      ],
      "metadata": {
        "id": "Sp7DzQF2Jy1G"
      }
    },
    {
      "cell_type": "code",
      "source": [
        "class TextPreprocessing() :\n",
        "    def __init__(self, df : pd.DataFrame = pd.DataFrame) :\n",
        "        self.df = df\n",
        "        \n",
        "        \n",
        "    def Clean(self , df) :\n",
        "        self.df = df\n",
        "        df_copy = df.copy(deep = True)\n",
        "        text_cols = list(df_copy.select_dtypes(include = ['object']).columns)\n",
        "        for col in text_cols :\n",
        "            for idx, text in enumerate(df_copy[col]) :\n",
        "                te = []\n",
        "                word = re.sub(r'(@|#)\\w+' , '' , text)\n",
        "                word = re.sub(\"[,.]\", \"\", word)\n",
        "                word = re.sub(r'https?://\\S+' , '' , word)\n",
        "                word = re.sub(r'(\\?|!)+' , '' , word)\n",
        "                word = re.sub(r\"\\(|\\)\", \"\", word)\n",
        "                word = re.sub(r'(^\\s+)' , '' , word)\n",
        "                word = re.sub(r'(\\s+$)' , '' , word)\n",
        "                word = re.sub(r'\\d+' , '' , word)\n",
        "                word = word.split()\n",
        "                for i in word :\n",
        "                    if (i not in s_words) & (i not in punc) :\n",
        "                        i = i.lower()\n",
        "                        i = lmt.lemmatize(i , 'v')\n",
        "                        te.append(i)\n",
        "                df_copy.at[idx , col] = te\n",
        "        return df_copy\n",
        "    \n",
        "    def Vactorize (self, df , target_name) :\n",
        "        self.df = df\n",
        "        self.target_name = target_name\n",
        "        df_cleaned = df.copy(deep = True)\n",
        "        text_cols = list(df_cleaned.select_dtypes(include = ['object']).columns)\n",
        "        pos_word = {}\n",
        "        neg_word = {}\n",
        "\n",
        "        pos_df = df_cleaned[df_cleaned[target_name] == 1].reset_index(drop=True)\n",
        "        neg_df = df_cleaned[df_cleaned[target_name] == 0].reset_index(drop=True)\n",
        "        \n",
        "        for col in text_cols :\n",
        "\n",
        "            pos_word[col] = [word for sublist in pos_df[col] for word in sublist]\n",
        "            neg_word[col] = [word for sublist in neg_df[col] for word in sublist]\n",
        "\n",
        "\n",
        "\n",
        "        pos_freq = {}\n",
        "        neg_freq = {}\n",
        "        for key in pos_word.keys() :\n",
        "            positive_dict = {}\n",
        "            for word in pos_word[key] :\n",
        "                positive_dict[word] = positive_dict.get(word , 0) + 1\n",
        "\n",
        "            pos_freq[key] = positive_dict\n",
        "\n",
        "\n",
        "        for key in neg_word.keys() :\n",
        "            negative_dict = {}\n",
        "            for word in neg_word[key] :\n",
        "                negative_dict[word] = negative_dict.get(word , 0) + 1\n",
        "\n",
        "            neg_freq[key] = negative_dict\n",
        "            \n",
        "        return pos_freq , neg_freq\n",
        "\n",
        "        \n",
        "        \n",
        "        \n",
        "    def Vactorization (self , df , target_name) :\n",
        "        self.df = df\n",
        "        self.target_name = target_name\n",
        "        df_cleaned = df.copy(deep = True)\n",
        "        text_cols = list(df_cleaned.select_dtypes(include = ['object']).columns)\n",
        "        pos_freq , neg_freq = TextPreprocessing().Vactorize(df_cleaned , target_name)\n",
        "\n",
        "        for col in text_cols :\n",
        "            df_cleaned['{}_pos'.format(col)] = 0\n",
        "            df_cleaned['{}_neg'.format(col)] = 0\n",
        "            for idx, List in enumerate(df_cleaned[col]) :\n",
        "                pos_frequent = 0\n",
        "                neg_frequent = 0\n",
        "                for word in List :\n",
        "                    pos_frequent += pos_freq[col].get(word , 0)\n",
        "                    neg_frequent += neg_freq[col].get(word , 0)\n",
        "\n",
        "\n",
        "\n",
        "                df_cleaned.at[idx ,'{}_pos'.format(col)] = pos_frequent\n",
        "                df_cleaned.at[idx ,'{}_neg'.format(col)] = neg_frequent\n",
        "            df_cleaned.drop([col] , axis = 1 , inplace = True)\n",
        "        return df_cleaned\n",
        "    \n",
        "    \n",
        "    def fit_transform(self , df , target_name) :\n",
        "        self.df = df\n",
        "        self.target_name = target_name\n",
        "        \n",
        "        df_cleaned = TextPreprocessing().Clean(df)\n",
        "        df_vact = TextPreprocessing().Vactorization(df_cleaned , target_name)\n",
        "        \n",
        "        return df_vact\n",
        "    \n",
        "    \n",
        "    def Naive_Bayes(self , df, target_name) :\n",
        "        self.df = df\n",
        "        self.target_name = target_name\n",
        "        df_naive = TextPreprocessing().Clean(df)\n",
        "        pos_freq , neg_freq = TextPreprocessing().Vactorize(df_naive , target_name)\n",
        "        text_cols = list(df_naive.select_dtypes(include = ['object']).columns)\n",
        "        \n",
        "        v_n_pos , v_n_neg = {} , {}\n",
        "\n",
        "        for key in pos_freq.keys() :\n",
        "            v_n_pos[key] = len(pos_freq[key])\n",
        "            n = 0\n",
        "            for word in pos_freq[key] :\n",
        "                n += pos_freq[key].get(word , 0)\n",
        "            v_n_pos[key]+=n\n",
        "        for key in neg_freq.keys() :\n",
        "            v_n_neg[key] = len(neg_freq[key])\n",
        "            n = 0\n",
        "            for word in neg_freq[key] :\n",
        "                n += neg_freq[key].get(word , 0)\n",
        "            v_n_neg[key]+=n\n",
        "            \n",
        "            \n",
        "        prob_pos_dict = {}\n",
        "        for key in pos_freq.keys():\n",
        "            positive_dict = {}\n",
        "            for word in pos_freq[key] :\n",
        "                positive_dict[word] = (pos_freq[key].get(word , 0) + 1) / (v_n_pos[key])\n",
        "            prob_pos_dict[key] = positive_dict\n",
        "\n",
        "\n",
        "\n",
        "\n",
        "        prob_neg_dict = {}\n",
        "        for key in neg_freq.keys():\n",
        "            negative_dict = {}\n",
        "            for word in neg_freq[key] :\n",
        "                negative_dict[word] = (neg_freq[key].get(word , 0) + 1) / (v_n_neg[key])\n",
        "                prob_neg_dict[key] = negative_dict\n",
        "            \n",
        "            \n",
        "            \n",
        "        for col in text_cols :\n",
        "            df_naive['{}_probs'.format(col)] = 0\n",
        "            for idx, List in enumerate(df_naive[col]) :\n",
        "                score = 0\n",
        "                for word in List :\n",
        "                    try :\n",
        "                        b = np.log((prob_pos_dict[col].get(word , 0)) / (prob_neg_dict[col].get(word , 0)))\n",
        "                        if b == -float('inf') :\n",
        "                            pass\n",
        "                        else :\n",
        "                            score +=b\n",
        "                    except :\n",
        "                        pass\n",
        "\n",
        "                df_naive['{}_probs'.format(col)][idx] = score\n",
        "            df_naive.drop([col] , axis = 1 , inplace = True)\n",
        "            \n",
        "            \n",
        "        return {'probs_pos':prob_pos_dict ,'probs_neg':prob_neg_dict } , df_naive   "
      ],
      "metadata": {
        "id": "C1FVwRZ9qSTY"
      },
      "execution_count": 3,
      "outputs": []
    },
    {
      "cell_type": "code",
      "source": [
        "pre = TextPreprocessing()"
      ],
      "metadata": {
        "id": "K12b5ykTJ-qw"
      },
      "execution_count": 4,
      "outputs": []
    },
    {
      "cell_type": "markdown",
      "source": [
        "## Read The Data"
      ],
      "metadata": {
        "id": "AzJynYCgKDd2"
      }
    },
    {
      "cell_type": "code",
      "source": [
        "df = pd.read_csv(\"CCS_F.csv\")"
      ],
      "metadata": {
        "id": "GNH97xniKCpk"
      },
      "execution_count": 5,
      "outputs": []
    },
    {
      "cell_type": "code",
      "source": [
        "df.drop(\"Unnamed: 0\" ,axis = 1 , inplace = True)"
      ],
      "metadata": {
        "id": "s2qFSZP0KQq1"
      },
      "execution_count": 7,
      "outputs": []
    },
    {
      "cell_type": "code",
      "source": [
        "df.head()"
      ],
      "metadata": {
        "colab": {
          "base_uri": "https://localhost:8080/",
          "height": 206
        },
        "id": "7AbVgx8NKJcr",
        "outputId": "03bfbc22-55f7-4b97-b4dc-8f7d5d06b06c"
      },
      "execution_count": 8,
      "outputs": [
        {
          "output_type": "execute_result",
          "data": {
            "text/plain": [
              "   telecommuting  company logo exist?  has_questions  employment_type  \\\n",
              "0              0                    1              1                3   \n",
              "1              0                    1              1                0   \n",
              "2              0                    1              1                0   \n",
              "3              0                    1              1                3   \n",
              "4              0                    1              0                3   \n",
              "\n",
              "   experience required  education required  fake?  \\\n",
              "0                    0                   9      0   \n",
              "1                    0                   9      0   \n",
              "2                    0                   9      0   \n",
              "3                    3                   1      0   \n",
              "4                    0                   9      0   \n",
              "\n",
              "                                           Job Info.  \n",
              "0  job title videographer editor photographer loc...  \n",
              "1  job title su chain manager location company gr...  \n",
              "2  job title digital project manager location com...  \n",
              "3  job title global communication manager locatio...  \n",
              "4  job title candidate location company lt depatm...  "
            ],
            "text/html": [
              "\n",
              "  <div id=\"df-1751fda1-56f1-4367-980c-71c9b55a3a0c\">\n",
              "    <div class=\"colab-df-container\">\n",
              "      <div>\n",
              "<style scoped>\n",
              "    .dataframe tbody tr th:only-of-type {\n",
              "        vertical-align: middle;\n",
              "    }\n",
              "\n",
              "    .dataframe tbody tr th {\n",
              "        vertical-align: top;\n",
              "    }\n",
              "\n",
              "    .dataframe thead th {\n",
              "        text-align: right;\n",
              "    }\n",
              "</style>\n",
              "<table border=\"1\" class=\"dataframe\">\n",
              "  <thead>\n",
              "    <tr style=\"text-align: right;\">\n",
              "      <th></th>\n",
              "      <th>telecommuting</th>\n",
              "      <th>company logo exist?</th>\n",
              "      <th>has_questions</th>\n",
              "      <th>employment_type</th>\n",
              "      <th>experience required</th>\n",
              "      <th>education required</th>\n",
              "      <th>fake?</th>\n",
              "      <th>Job Info.</th>\n",
              "    </tr>\n",
              "  </thead>\n",
              "  <tbody>\n",
              "    <tr>\n",
              "      <th>0</th>\n",
              "      <td>0</td>\n",
              "      <td>1</td>\n",
              "      <td>1</td>\n",
              "      <td>3</td>\n",
              "      <td>0</td>\n",
              "      <td>9</td>\n",
              "      <td>0</td>\n",
              "      <td>job title videographer editor photographer loc...</td>\n",
              "    </tr>\n",
              "    <tr>\n",
              "      <th>1</th>\n",
              "      <td>0</td>\n",
              "      <td>1</td>\n",
              "      <td>1</td>\n",
              "      <td>0</td>\n",
              "      <td>0</td>\n",
              "      <td>9</td>\n",
              "      <td>0</td>\n",
              "      <td>job title su chain manager location company gr...</td>\n",
              "    </tr>\n",
              "    <tr>\n",
              "      <th>2</th>\n",
              "      <td>0</td>\n",
              "      <td>1</td>\n",
              "      <td>1</td>\n",
              "      <td>0</td>\n",
              "      <td>0</td>\n",
              "      <td>9</td>\n",
              "      <td>0</td>\n",
              "      <td>job title digital project manager location com...</td>\n",
              "    </tr>\n",
              "    <tr>\n",
              "      <th>3</th>\n",
              "      <td>0</td>\n",
              "      <td>1</td>\n",
              "      <td>1</td>\n",
              "      <td>3</td>\n",
              "      <td>3</td>\n",
              "      <td>1</td>\n",
              "      <td>0</td>\n",
              "      <td>job title global communication manager locatio...</td>\n",
              "    </tr>\n",
              "    <tr>\n",
              "      <th>4</th>\n",
              "      <td>0</td>\n",
              "      <td>1</td>\n",
              "      <td>0</td>\n",
              "      <td>3</td>\n",
              "      <td>0</td>\n",
              "      <td>9</td>\n",
              "      <td>0</td>\n",
              "      <td>job title candidate location company lt depatm...</td>\n",
              "    </tr>\n",
              "  </tbody>\n",
              "</table>\n",
              "</div>\n",
              "      <button class=\"colab-df-convert\" onclick=\"convertToInteractive('df-1751fda1-56f1-4367-980c-71c9b55a3a0c')\"\n",
              "              title=\"Convert this dataframe to an interactive table.\"\n",
              "              style=\"display:none;\">\n",
              "        \n",
              "  <svg xmlns=\"http://www.w3.org/2000/svg\" height=\"24px\"viewBox=\"0 0 24 24\"\n",
              "       width=\"24px\">\n",
              "    <path d=\"M0 0h24v24H0V0z\" fill=\"none\"/>\n",
              "    <path d=\"M18.56 5.44l.94 2.06.94-2.06 2.06-.94-2.06-.94-.94-2.06-.94 2.06-2.06.94zm-11 1L8.5 8.5l.94-2.06 2.06-.94-2.06-.94L8.5 2.5l-.94 2.06-2.06.94zm10 10l.94 2.06.94-2.06 2.06-.94-2.06-.94-.94-2.06-.94 2.06-2.06.94z\"/><path d=\"M17.41 7.96l-1.37-1.37c-.4-.4-.92-.59-1.43-.59-.52 0-1.04.2-1.43.59L10.3 9.45l-7.72 7.72c-.78.78-.78 2.05 0 2.83L4 21.41c.39.39.9.59 1.41.59.51 0 1.02-.2 1.41-.59l7.78-7.78 2.81-2.81c.8-.78.8-2.07 0-2.86zM5.41 20L4 18.59l7.72-7.72 1.47 1.35L5.41 20z\"/>\n",
              "  </svg>\n",
              "      </button>\n",
              "      \n",
              "  <style>\n",
              "    .colab-df-container {\n",
              "      display:flex;\n",
              "      flex-wrap:wrap;\n",
              "      gap: 12px;\n",
              "    }\n",
              "\n",
              "    .colab-df-convert {\n",
              "      background-color: #E8F0FE;\n",
              "      border: none;\n",
              "      border-radius: 50%;\n",
              "      cursor: pointer;\n",
              "      display: none;\n",
              "      fill: #1967D2;\n",
              "      height: 32px;\n",
              "      padding: 0 0 0 0;\n",
              "      width: 32px;\n",
              "    }\n",
              "\n",
              "    .colab-df-convert:hover {\n",
              "      background-color: #E2EBFA;\n",
              "      box-shadow: 0px 1px 2px rgba(60, 64, 67, 0.3), 0px 1px 3px 1px rgba(60, 64, 67, 0.15);\n",
              "      fill: #174EA6;\n",
              "    }\n",
              "\n",
              "    [theme=dark] .colab-df-convert {\n",
              "      background-color: #3B4455;\n",
              "      fill: #D2E3FC;\n",
              "    }\n",
              "\n",
              "    [theme=dark] .colab-df-convert:hover {\n",
              "      background-color: #434B5C;\n",
              "      box-shadow: 0px 1px 3px 1px rgba(0, 0, 0, 0.15);\n",
              "      filter: drop-shadow(0px 1px 2px rgba(0, 0, 0, 0.3));\n",
              "      fill: #FFFFFF;\n",
              "    }\n",
              "  </style>\n",
              "\n",
              "      <script>\n",
              "        const buttonEl =\n",
              "          document.querySelector('#df-1751fda1-56f1-4367-980c-71c9b55a3a0c button.colab-df-convert');\n",
              "        buttonEl.style.display =\n",
              "          google.colab.kernel.accessAllowed ? 'block' : 'none';\n",
              "\n",
              "        async function convertToInteractive(key) {\n",
              "          const element = document.querySelector('#df-1751fda1-56f1-4367-980c-71c9b55a3a0c');\n",
              "          const dataTable =\n",
              "            await google.colab.kernel.invokeFunction('convertToInteractive',\n",
              "                                                     [key], {});\n",
              "          if (!dataTable) return;\n",
              "\n",
              "          const docLinkHtml = 'Like what you see? Visit the ' +\n",
              "            '<a target=\"_blank\" href=https://colab.research.google.com/notebooks/data_table.ipynb>data table notebook</a>'\n",
              "            + ' to learn more about interactive tables.';\n",
              "          element.innerHTML = '';\n",
              "          dataTable['output_type'] = 'display_data';\n",
              "          await google.colab.output.renderOutput(dataTable, element);\n",
              "          const docLink = document.createElement('div');\n",
              "          docLink.innerHTML = docLinkHtml;\n",
              "          element.appendChild(docLink);\n",
              "        }\n",
              "      </script>\n",
              "    </div>\n",
              "  </div>\n",
              "  "
            ]
          },
          "metadata": {},
          "execution_count": 8
        }
      ]
    },
    {
      "cell_type": "markdown",
      "source": [
        "## Start vectorizing the Text Column"
      ],
      "metadata": {
        "id": "VZAOwZi9KgJr"
      }
    },
    {
      "cell_type": "code",
      "source": [
        "df_cleaned = pre.Vactorization(df , target_name = 'fake?')\n",
        "df_cleaned"
      ],
      "metadata": {
        "colab": {
          "base_uri": "https://localhost:8080/",
          "height": 423
        },
        "id": "4Mfb5LcKKNeV",
        "outputId": "7e8a19df-b3c9-497b-8ff1-fc8428767e57"
      },
      "execution_count": 9,
      "outputs": [
        {
          "output_type": "execute_result",
          "data": {
            "text/plain": [
              "       telecommuting  company logo exist?  has_questions  employment_type  \\\n",
              "0                  0                    1              1                3   \n",
              "1                  0                    1              1                0   \n",
              "2                  0                    1              1                0   \n",
              "3                  0                    1              1                3   \n",
              "4                  0                    1              0                3   \n",
              "...              ...                  ...            ...              ...   \n",
              "12780              0                    1              0                0   \n",
              "12781              0                    1              1                3   \n",
              "12782              0                    1              1                3   \n",
              "12783              0                    0              0                3   \n",
              "12784              0                    1              0                3   \n",
              "\n",
              "       experience required  education required  fake?  Job Info._pos  \\\n",
              "0                        0                   9      0      161546283   \n",
              "1                        0                   9      0       32258285   \n",
              "2                        0                   9      0      239181401   \n",
              "3                        3                   1      0      266627479   \n",
              "4                        0                   9      0      284418219   \n",
              "...                    ...                 ...    ...            ...   \n",
              "12780                    0                   9      0      188289921   \n",
              "12781                    3                   9      0      441178140   \n",
              "12782                    0                   0      0      127343432   \n",
              "12783                    0                   9      0       80359659   \n",
              "12784                    3                   1      0      244329452   \n",
              "\n",
              "       Job Info._neg  \n",
              "0         3476394819  \n",
              "1          694238594  \n",
              "2         5146070593  \n",
              "3         5741695576  \n",
              "4         6127968530  \n",
              "...              ...  \n",
              "12780     4054339154  \n",
              "12781     9495879441  \n",
              "12782     2740588446  \n",
              "12783     1727173775  \n",
              "12784     5254035729  \n",
              "\n",
              "[12785 rows x 9 columns]"
            ],
            "text/html": [
              "\n",
              "  <div id=\"df-130e02f7-e4e0-4e0c-a695-1b3284321425\">\n",
              "    <div class=\"colab-df-container\">\n",
              "      <div>\n",
              "<style scoped>\n",
              "    .dataframe tbody tr th:only-of-type {\n",
              "        vertical-align: middle;\n",
              "    }\n",
              "\n",
              "    .dataframe tbody tr th {\n",
              "        vertical-align: top;\n",
              "    }\n",
              "\n",
              "    .dataframe thead th {\n",
              "        text-align: right;\n",
              "    }\n",
              "</style>\n",
              "<table border=\"1\" class=\"dataframe\">\n",
              "  <thead>\n",
              "    <tr style=\"text-align: right;\">\n",
              "      <th></th>\n",
              "      <th>telecommuting</th>\n",
              "      <th>company logo exist?</th>\n",
              "      <th>has_questions</th>\n",
              "      <th>employment_type</th>\n",
              "      <th>experience required</th>\n",
              "      <th>education required</th>\n",
              "      <th>fake?</th>\n",
              "      <th>Job Info._pos</th>\n",
              "      <th>Job Info._neg</th>\n",
              "    </tr>\n",
              "  </thead>\n",
              "  <tbody>\n",
              "    <tr>\n",
              "      <th>0</th>\n",
              "      <td>0</td>\n",
              "      <td>1</td>\n",
              "      <td>1</td>\n",
              "      <td>3</td>\n",
              "      <td>0</td>\n",
              "      <td>9</td>\n",
              "      <td>0</td>\n",
              "      <td>161546283</td>\n",
              "      <td>3476394819</td>\n",
              "    </tr>\n",
              "    <tr>\n",
              "      <th>1</th>\n",
              "      <td>0</td>\n",
              "      <td>1</td>\n",
              "      <td>1</td>\n",
              "      <td>0</td>\n",
              "      <td>0</td>\n",
              "      <td>9</td>\n",
              "      <td>0</td>\n",
              "      <td>32258285</td>\n",
              "      <td>694238594</td>\n",
              "    </tr>\n",
              "    <tr>\n",
              "      <th>2</th>\n",
              "      <td>0</td>\n",
              "      <td>1</td>\n",
              "      <td>1</td>\n",
              "      <td>0</td>\n",
              "      <td>0</td>\n",
              "      <td>9</td>\n",
              "      <td>0</td>\n",
              "      <td>239181401</td>\n",
              "      <td>5146070593</td>\n",
              "    </tr>\n",
              "    <tr>\n",
              "      <th>3</th>\n",
              "      <td>0</td>\n",
              "      <td>1</td>\n",
              "      <td>1</td>\n",
              "      <td>3</td>\n",
              "      <td>3</td>\n",
              "      <td>1</td>\n",
              "      <td>0</td>\n",
              "      <td>266627479</td>\n",
              "      <td>5741695576</td>\n",
              "    </tr>\n",
              "    <tr>\n",
              "      <th>4</th>\n",
              "      <td>0</td>\n",
              "      <td>1</td>\n",
              "      <td>0</td>\n",
              "      <td>3</td>\n",
              "      <td>0</td>\n",
              "      <td>9</td>\n",
              "      <td>0</td>\n",
              "      <td>284418219</td>\n",
              "      <td>6127968530</td>\n",
              "    </tr>\n",
              "    <tr>\n",
              "      <th>...</th>\n",
              "      <td>...</td>\n",
              "      <td>...</td>\n",
              "      <td>...</td>\n",
              "      <td>...</td>\n",
              "      <td>...</td>\n",
              "      <td>...</td>\n",
              "      <td>...</td>\n",
              "      <td>...</td>\n",
              "      <td>...</td>\n",
              "    </tr>\n",
              "    <tr>\n",
              "      <th>12780</th>\n",
              "      <td>0</td>\n",
              "      <td>1</td>\n",
              "      <td>0</td>\n",
              "      <td>0</td>\n",
              "      <td>0</td>\n",
              "      <td>9</td>\n",
              "      <td>0</td>\n",
              "      <td>188289921</td>\n",
              "      <td>4054339154</td>\n",
              "    </tr>\n",
              "    <tr>\n",
              "      <th>12781</th>\n",
              "      <td>0</td>\n",
              "      <td>1</td>\n",
              "      <td>1</td>\n",
              "      <td>3</td>\n",
              "      <td>3</td>\n",
              "      <td>9</td>\n",
              "      <td>0</td>\n",
              "      <td>441178140</td>\n",
              "      <td>9495879441</td>\n",
              "    </tr>\n",
              "    <tr>\n",
              "      <th>12782</th>\n",
              "      <td>0</td>\n",
              "      <td>1</td>\n",
              "      <td>1</td>\n",
              "      <td>3</td>\n",
              "      <td>0</td>\n",
              "      <td>0</td>\n",
              "      <td>0</td>\n",
              "      <td>127343432</td>\n",
              "      <td>2740588446</td>\n",
              "    </tr>\n",
              "    <tr>\n",
              "      <th>12783</th>\n",
              "      <td>0</td>\n",
              "      <td>0</td>\n",
              "      <td>0</td>\n",
              "      <td>3</td>\n",
              "      <td>0</td>\n",
              "      <td>9</td>\n",
              "      <td>0</td>\n",
              "      <td>80359659</td>\n",
              "      <td>1727173775</td>\n",
              "    </tr>\n",
              "    <tr>\n",
              "      <th>12784</th>\n",
              "      <td>0</td>\n",
              "      <td>1</td>\n",
              "      <td>0</td>\n",
              "      <td>3</td>\n",
              "      <td>3</td>\n",
              "      <td>1</td>\n",
              "      <td>0</td>\n",
              "      <td>244329452</td>\n",
              "      <td>5254035729</td>\n",
              "    </tr>\n",
              "  </tbody>\n",
              "</table>\n",
              "<p>12785 rows × 9 columns</p>\n",
              "</div>\n",
              "      <button class=\"colab-df-convert\" onclick=\"convertToInteractive('df-130e02f7-e4e0-4e0c-a695-1b3284321425')\"\n",
              "              title=\"Convert this dataframe to an interactive table.\"\n",
              "              style=\"display:none;\">\n",
              "        \n",
              "  <svg xmlns=\"http://www.w3.org/2000/svg\" height=\"24px\"viewBox=\"0 0 24 24\"\n",
              "       width=\"24px\">\n",
              "    <path d=\"M0 0h24v24H0V0z\" fill=\"none\"/>\n",
              "    <path d=\"M18.56 5.44l.94 2.06.94-2.06 2.06-.94-2.06-.94-.94-2.06-.94 2.06-2.06.94zm-11 1L8.5 8.5l.94-2.06 2.06-.94-2.06-.94L8.5 2.5l-.94 2.06-2.06.94zm10 10l.94 2.06.94-2.06 2.06-.94-2.06-.94-.94-2.06-.94 2.06-2.06.94z\"/><path d=\"M17.41 7.96l-1.37-1.37c-.4-.4-.92-.59-1.43-.59-.52 0-1.04.2-1.43.59L10.3 9.45l-7.72 7.72c-.78.78-.78 2.05 0 2.83L4 21.41c.39.39.9.59 1.41.59.51 0 1.02-.2 1.41-.59l7.78-7.78 2.81-2.81c.8-.78.8-2.07 0-2.86zM5.41 20L4 18.59l7.72-7.72 1.47 1.35L5.41 20z\"/>\n",
              "  </svg>\n",
              "      </button>\n",
              "      \n",
              "  <style>\n",
              "    .colab-df-container {\n",
              "      display:flex;\n",
              "      flex-wrap:wrap;\n",
              "      gap: 12px;\n",
              "    }\n",
              "\n",
              "    .colab-df-convert {\n",
              "      background-color: #E8F0FE;\n",
              "      border: none;\n",
              "      border-radius: 50%;\n",
              "      cursor: pointer;\n",
              "      display: none;\n",
              "      fill: #1967D2;\n",
              "      height: 32px;\n",
              "      padding: 0 0 0 0;\n",
              "      width: 32px;\n",
              "    }\n",
              "\n",
              "    .colab-df-convert:hover {\n",
              "      background-color: #E2EBFA;\n",
              "      box-shadow: 0px 1px 2px rgba(60, 64, 67, 0.3), 0px 1px 3px 1px rgba(60, 64, 67, 0.15);\n",
              "      fill: #174EA6;\n",
              "    }\n",
              "\n",
              "    [theme=dark] .colab-df-convert {\n",
              "      background-color: #3B4455;\n",
              "      fill: #D2E3FC;\n",
              "    }\n",
              "\n",
              "    [theme=dark] .colab-df-convert:hover {\n",
              "      background-color: #434B5C;\n",
              "      box-shadow: 0px 1px 3px 1px rgba(0, 0, 0, 0.15);\n",
              "      filter: drop-shadow(0px 1px 2px rgba(0, 0, 0, 0.3));\n",
              "      fill: #FFFFFF;\n",
              "    }\n",
              "  </style>\n",
              "\n",
              "      <script>\n",
              "        const buttonEl =\n",
              "          document.querySelector('#df-130e02f7-e4e0-4e0c-a695-1b3284321425 button.colab-df-convert');\n",
              "        buttonEl.style.display =\n",
              "          google.colab.kernel.accessAllowed ? 'block' : 'none';\n",
              "\n",
              "        async function convertToInteractive(key) {\n",
              "          const element = document.querySelector('#df-130e02f7-e4e0-4e0c-a695-1b3284321425');\n",
              "          const dataTable =\n",
              "            await google.colab.kernel.invokeFunction('convertToInteractive',\n",
              "                                                     [key], {});\n",
              "          if (!dataTable) return;\n",
              "\n",
              "          const docLinkHtml = 'Like what you see? Visit the ' +\n",
              "            '<a target=\"_blank\" href=https://colab.research.google.com/notebooks/data_table.ipynb>data table notebook</a>'\n",
              "            + ' to learn more about interactive tables.';\n",
              "          element.innerHTML = '';\n",
              "          dataTable['output_type'] = 'display_data';\n",
              "          await google.colab.output.renderOutput(dataTable, element);\n",
              "          const docLink = document.createElement('div');\n",
              "          docLink.innerHTML = docLinkHtml;\n",
              "          element.appendChild(docLink);\n",
              "        }\n",
              "      </script>\n",
              "    </div>\n",
              "  </div>\n",
              "  "
            ]
          },
          "metadata": {},
          "execution_count": 9
        }
      ]
    },
    {
      "cell_type": "markdown",
      "source": [
        "## Modeling "
      ],
      "metadata": {
        "id": "W9rt1GxaK3Jd"
      }
    },
    {
      "cell_type": "code",
      "source": [
        "x = df_cleaned.drop(['fake?'] , axis = 1)\n",
        "y = df_cleaned['fake?']\n",
        "x_train, x_test, y_train, y_test = train_test_split(x, y, test_size = 0.3 , random_state = 42)"
      ],
      "metadata": {
        "id": "_aiioxJgK2hM"
      },
      "execution_count": 10,
      "outputs": []
    },
    {
      "cell_type": "code",
      "source": [
        "list_of_models = [LogisticRegression() , KNeighborsClassifier() , \n",
        "                  DecisionTreeClassifier() ,ExtraTreeClassifier(), RandomForestClassifier(),ExtraTreesClassifier()]\n",
        "classification_report = pd.DataFrame(columns=['Accuracy','F1_score','Precision','Recall'])\n",
        "\n",
        "for model in list_of_models :\n",
        "    model = model.fit(x_train , y_train)\n",
        "    for i in range(2) :\n",
        "        if i == 0 :\n",
        "            to_pred = x_train\n",
        "            pred = y_train\n",
        "            title = 'Train'\n",
        "            \n",
        "        else :\n",
        "            to_pred = x_test\n",
        "            pred = y_test\n",
        "            title = 'Test'\n",
        "        y_pred = model.predict(to_pred)\n",
        "        acc = round(accuracy_score(pred , y_pred)*100)\n",
        "        f1 = round(f1_score(pred , y_pred)*100)\n",
        "        prec = round(precision_score(pred , y_pred)*100)\n",
        "        recall = round(recall_score(pred , y_pred)*100)\n",
        "        d = pd.DataFrame(data=np.array([acc,f1,prec,recall]).reshape(1,4) \n",
        "                     , columns=['Accuracy' , 'F1_score' , 'Precision' , 'Recall'])  \n",
        "        classification_report = pd.concat([classification_report , d])\n",
        "        classification_report.rename( index= { 0 :'{} _ {} Details'.format(model , title) } ,inplace=True )\n",
        "pd.options.display.max_rows = 15\n",
        "classification_report"
      ],
      "metadata": {
        "colab": {
          "base_uri": "https://localhost:8080/",
          "height": 482
        },
        "id": "Y66bEV5KKzSx",
        "outputId": "56863646-a2f6-4197-e84d-2e466ab5ca94"
      },
      "execution_count": 11,
      "outputs": [
        {
          "output_type": "stream",
          "name": "stderr",
          "text": [
            "/usr/local/lib/python3.10/dist-packages/sklearn/metrics/_classification.py:1344: UndefinedMetricWarning: Precision is ill-defined and being set to 0.0 due to no predicted samples. Use `zero_division` parameter to control this behavior.\n",
            "  _warn_prf(average, modifier, msg_start, len(result))\n"
          ]
        },
        {
          "output_type": "execute_result",
          "data": {
            "text/plain": [
              "                                         Accuracy F1_score Precision Recall\n",
              "LogisticRegression() _ Train Details           95        0         0      0\n",
              "LogisticRegression() _ Test Details            94        0         0      0\n",
              "KNeighborsClassifier() _ Train Details         95       18        71     10\n",
              "KNeighborsClassifier() _ Test Details          94       10        35      6\n",
              "DecisionTreeClassifier() _ Train Details      100      100       100    100\n",
              "DecisionTreeClassifier() _ Test Details        93       38        38     38\n",
              "ExtraTreeClassifier() _ Train Details         100      100       100    100\n",
              "ExtraTreeClassifier() _ Test Details           93       38        38     37\n",
              "RandomForestClassifier() _ Train Details      100      100       100    100\n",
              "RandomForestClassifier() _ Test Details        94       39        49     33\n",
              "ExtraTreesClassifier() _ Train Details        100      100       100    100\n",
              "ExtraTreesClassifier() _ Test Details          94       39        43     35"
            ],
            "text/html": [
              "\n",
              "  <div id=\"df-06d6a250-1d45-472c-91f9-6071b815ab8a\">\n",
              "    <div class=\"colab-df-container\">\n",
              "      <div>\n",
              "<style scoped>\n",
              "    .dataframe tbody tr th:only-of-type {\n",
              "        vertical-align: middle;\n",
              "    }\n",
              "\n",
              "    .dataframe tbody tr th {\n",
              "        vertical-align: top;\n",
              "    }\n",
              "\n",
              "    .dataframe thead th {\n",
              "        text-align: right;\n",
              "    }\n",
              "</style>\n",
              "<table border=\"1\" class=\"dataframe\">\n",
              "  <thead>\n",
              "    <tr style=\"text-align: right;\">\n",
              "      <th></th>\n",
              "      <th>Accuracy</th>\n",
              "      <th>F1_score</th>\n",
              "      <th>Precision</th>\n",
              "      <th>Recall</th>\n",
              "    </tr>\n",
              "  </thead>\n",
              "  <tbody>\n",
              "    <tr>\n",
              "      <th>LogisticRegression() _ Train Details</th>\n",
              "      <td>95</td>\n",
              "      <td>0</td>\n",
              "      <td>0</td>\n",
              "      <td>0</td>\n",
              "    </tr>\n",
              "    <tr>\n",
              "      <th>LogisticRegression() _ Test Details</th>\n",
              "      <td>94</td>\n",
              "      <td>0</td>\n",
              "      <td>0</td>\n",
              "      <td>0</td>\n",
              "    </tr>\n",
              "    <tr>\n",
              "      <th>KNeighborsClassifier() _ Train Details</th>\n",
              "      <td>95</td>\n",
              "      <td>18</td>\n",
              "      <td>71</td>\n",
              "      <td>10</td>\n",
              "    </tr>\n",
              "    <tr>\n",
              "      <th>KNeighborsClassifier() _ Test Details</th>\n",
              "      <td>94</td>\n",
              "      <td>10</td>\n",
              "      <td>35</td>\n",
              "      <td>6</td>\n",
              "    </tr>\n",
              "    <tr>\n",
              "      <th>DecisionTreeClassifier() _ Train Details</th>\n",
              "      <td>100</td>\n",
              "      <td>100</td>\n",
              "      <td>100</td>\n",
              "      <td>100</td>\n",
              "    </tr>\n",
              "    <tr>\n",
              "      <th>DecisionTreeClassifier() _ Test Details</th>\n",
              "      <td>93</td>\n",
              "      <td>38</td>\n",
              "      <td>38</td>\n",
              "      <td>38</td>\n",
              "    </tr>\n",
              "    <tr>\n",
              "      <th>ExtraTreeClassifier() _ Train Details</th>\n",
              "      <td>100</td>\n",
              "      <td>100</td>\n",
              "      <td>100</td>\n",
              "      <td>100</td>\n",
              "    </tr>\n",
              "    <tr>\n",
              "      <th>ExtraTreeClassifier() _ Test Details</th>\n",
              "      <td>93</td>\n",
              "      <td>38</td>\n",
              "      <td>38</td>\n",
              "      <td>37</td>\n",
              "    </tr>\n",
              "    <tr>\n",
              "      <th>RandomForestClassifier() _ Train Details</th>\n",
              "      <td>100</td>\n",
              "      <td>100</td>\n",
              "      <td>100</td>\n",
              "      <td>100</td>\n",
              "    </tr>\n",
              "    <tr>\n",
              "      <th>RandomForestClassifier() _ Test Details</th>\n",
              "      <td>94</td>\n",
              "      <td>39</td>\n",
              "      <td>49</td>\n",
              "      <td>33</td>\n",
              "    </tr>\n",
              "    <tr>\n",
              "      <th>ExtraTreesClassifier() _ Train Details</th>\n",
              "      <td>100</td>\n",
              "      <td>100</td>\n",
              "      <td>100</td>\n",
              "      <td>100</td>\n",
              "    </tr>\n",
              "    <tr>\n",
              "      <th>ExtraTreesClassifier() _ Test Details</th>\n",
              "      <td>94</td>\n",
              "      <td>39</td>\n",
              "      <td>43</td>\n",
              "      <td>35</td>\n",
              "    </tr>\n",
              "  </tbody>\n",
              "</table>\n",
              "</div>\n",
              "      <button class=\"colab-df-convert\" onclick=\"convertToInteractive('df-06d6a250-1d45-472c-91f9-6071b815ab8a')\"\n",
              "              title=\"Convert this dataframe to an interactive table.\"\n",
              "              style=\"display:none;\">\n",
              "        \n",
              "  <svg xmlns=\"http://www.w3.org/2000/svg\" height=\"24px\"viewBox=\"0 0 24 24\"\n",
              "       width=\"24px\">\n",
              "    <path d=\"M0 0h24v24H0V0z\" fill=\"none\"/>\n",
              "    <path d=\"M18.56 5.44l.94 2.06.94-2.06 2.06-.94-2.06-.94-.94-2.06-.94 2.06-2.06.94zm-11 1L8.5 8.5l.94-2.06 2.06-.94-2.06-.94L8.5 2.5l-.94 2.06-2.06.94zm10 10l.94 2.06.94-2.06 2.06-.94-2.06-.94-.94-2.06-.94 2.06-2.06.94z\"/><path d=\"M17.41 7.96l-1.37-1.37c-.4-.4-.92-.59-1.43-.59-.52 0-1.04.2-1.43.59L10.3 9.45l-7.72 7.72c-.78.78-.78 2.05 0 2.83L4 21.41c.39.39.9.59 1.41.59.51 0 1.02-.2 1.41-.59l7.78-7.78 2.81-2.81c.8-.78.8-2.07 0-2.86zM5.41 20L4 18.59l7.72-7.72 1.47 1.35L5.41 20z\"/>\n",
              "  </svg>\n",
              "      </button>\n",
              "      \n",
              "  <style>\n",
              "    .colab-df-container {\n",
              "      display:flex;\n",
              "      flex-wrap:wrap;\n",
              "      gap: 12px;\n",
              "    }\n",
              "\n",
              "    .colab-df-convert {\n",
              "      background-color: #E8F0FE;\n",
              "      border: none;\n",
              "      border-radius: 50%;\n",
              "      cursor: pointer;\n",
              "      display: none;\n",
              "      fill: #1967D2;\n",
              "      height: 32px;\n",
              "      padding: 0 0 0 0;\n",
              "      width: 32px;\n",
              "    }\n",
              "\n",
              "    .colab-df-convert:hover {\n",
              "      background-color: #E2EBFA;\n",
              "      box-shadow: 0px 1px 2px rgba(60, 64, 67, 0.3), 0px 1px 3px 1px rgba(60, 64, 67, 0.15);\n",
              "      fill: #174EA6;\n",
              "    }\n",
              "\n",
              "    [theme=dark] .colab-df-convert {\n",
              "      background-color: #3B4455;\n",
              "      fill: #D2E3FC;\n",
              "    }\n",
              "\n",
              "    [theme=dark] .colab-df-convert:hover {\n",
              "      background-color: #434B5C;\n",
              "      box-shadow: 0px 1px 3px 1px rgba(0, 0, 0, 0.15);\n",
              "      filter: drop-shadow(0px 1px 2px rgba(0, 0, 0, 0.3));\n",
              "      fill: #FFFFFF;\n",
              "    }\n",
              "  </style>\n",
              "\n",
              "      <script>\n",
              "        const buttonEl =\n",
              "          document.querySelector('#df-06d6a250-1d45-472c-91f9-6071b815ab8a button.colab-df-convert');\n",
              "        buttonEl.style.display =\n",
              "          google.colab.kernel.accessAllowed ? 'block' : 'none';\n",
              "\n",
              "        async function convertToInteractive(key) {\n",
              "          const element = document.querySelector('#df-06d6a250-1d45-472c-91f9-6071b815ab8a');\n",
              "          const dataTable =\n",
              "            await google.colab.kernel.invokeFunction('convertToInteractive',\n",
              "                                                     [key], {});\n",
              "          if (!dataTable) return;\n",
              "\n",
              "          const docLinkHtml = 'Like what you see? Visit the ' +\n",
              "            '<a target=\"_blank\" href=https://colab.research.google.com/notebooks/data_table.ipynb>data table notebook</a>'\n",
              "            + ' to learn more about interactive tables.';\n",
              "          element.innerHTML = '';\n",
              "          dataTable['output_type'] = 'display_data';\n",
              "          await google.colab.output.renderOutput(dataTable, element);\n",
              "          const docLink = document.createElement('div');\n",
              "          docLink.innerHTML = docLinkHtml;\n",
              "          element.appendChild(docLink);\n",
              "        }\n",
              "      </script>\n",
              "    </div>\n",
              "  </div>\n",
              "  "
            ]
          },
          "metadata": {},
          "execution_count": 11
        }
      ]
    },
    {
      "cell_type": "markdown",
      "source": [
        "## Applying Grid Search on sum models"
      ],
      "metadata": {
        "id": "OwE_KEpqLGRh"
      }
    },
    {
      "cell_type": "markdown",
      "source": [
        "### Naive Bayes"
      ],
      "metadata": {
        "id": "C5pinK95LNke"
      }
    },
    {
      "cell_type": "code",
      "source": [
        "from sklearn.naive_bayes import GaussianNB\n",
        "from sklearn.model_selection import GridSearchCV\n",
        "from sklearn.metrics import accuracy_score, classification_report\n",
        "\n",
        "# Create a Gaussian Naive Bayes classifier\n",
        "naive_bayes = GaussianNB()\n",
        "\n",
        "# Define the hyperparameter grid to search\n",
        "param_grid = {'var_smoothing': [1e-9, 1e-8, 1e-7]}\n",
        "\n",
        "# Create a GridSearchCV object with the classifier, hyperparameter grid, and scoring metric\n",
        "grid_search = GridSearchCV(naive_bayes, param_grid, scoring='accuracy', cv=5)\n",
        "\n",
        "# Fit the GridSearchCV object on the training data\n",
        "grid_search.fit(x_train, y_train)\n",
        "\n",
        "# Get the best hyperparameters and the corresponding mean cross-validated score\n",
        "print(\"Best hyperparameters:\", grid_search.best_params_)\n",
        "print(\"Best score:\", grid_search.best_score_)"
      ],
      "metadata": {
        "colab": {
          "base_uri": "https://localhost:8080/"
        },
        "id": "PdTM2kUwLFRH",
        "outputId": "406e1b99-def3-4393-ef40-c7f5f7ca39a3"
      },
      "execution_count": 12,
      "outputs": [
        {
          "output_type": "stream",
          "name": "stdout",
          "text": [
            "Best hyperparameters: {'var_smoothing': 1e-09}\n",
            "Best score: 0.9458039977391322\n"
          ]
        }
      ]
    },
    {
      "cell_type": "markdown",
      "source": [
        "### Logistic Regression\n"
      ],
      "metadata": {
        "id": "rBSZLXRQLSpv"
      }
    },
    {
      "cell_type": "code",
      "source": [
        "from sklearn.linear_model import LogisticRegression\n",
        "from sklearn.model_selection import GridSearchCV, train_test_split\n",
        "\n",
        "# Define the parameter grid\n",
        "param_grid = {\n",
        "    'penalty': ['l1', 'l2'],\n",
        "    'C': [0.1, 1, 10],\n",
        "    'solver': ['liblinear', 'saga']\n",
        "}\n",
        "\n",
        "# Create the logistic regression model\n",
        "lreg = LogisticRegression(solver='saga')\n",
        "\n",
        "# Create the grid search object\n",
        "grid_search = GridSearchCV(lreg, param_grid, cv=5, scoring='roc_auc')\n",
        "\n",
        "# Fit the grid search object to the training data\n",
        "grid_search.fit(x_train, y_train)\n",
        "\n",
        "# Print the best parameters and score\n",
        "print(\"Best Parameters: \", grid_search.best_params_)\n",
        "print(\"Best Score: \", grid_search.best_score_)"
      ],
      "metadata": {
        "colab": {
          "base_uri": "https://localhost:8080/"
        },
        "id": "oMuenj0ALCFv",
        "outputId": "5bf774e4-47aa-4c73-e501-8a875ce92fee"
      },
      "execution_count": 13,
      "outputs": [
        {
          "output_type": "stream",
          "name": "stderr",
          "text": [
            "/usr/local/lib/python3.10/dist-packages/sklearn/svm/_base.py:1244: ConvergenceWarning: Liblinear failed to converge, increase the number of iterations.\n",
            "  warnings.warn(\n",
            "/usr/local/lib/python3.10/dist-packages/sklearn/svm/_base.py:1244: ConvergenceWarning: Liblinear failed to converge, increase the number of iterations.\n",
            "  warnings.warn(\n",
            "/usr/local/lib/python3.10/dist-packages/sklearn/svm/_base.py:1244: ConvergenceWarning: Liblinear failed to converge, increase the number of iterations.\n",
            "  warnings.warn(\n",
            "/usr/local/lib/python3.10/dist-packages/sklearn/svm/_base.py:1244: ConvergenceWarning: Liblinear failed to converge, increase the number of iterations.\n",
            "  warnings.warn(\n",
            "/usr/local/lib/python3.10/dist-packages/sklearn/svm/_base.py:1244: ConvergenceWarning: Liblinear failed to converge, increase the number of iterations.\n",
            "  warnings.warn(\n",
            "/usr/local/lib/python3.10/dist-packages/sklearn/linear_model/_sag.py:350: ConvergenceWarning: The max_iter was reached which means the coef_ did not converge\n",
            "  warnings.warn(\n",
            "/usr/local/lib/python3.10/dist-packages/sklearn/linear_model/_sag.py:350: ConvergenceWarning: The max_iter was reached which means the coef_ did not converge\n",
            "  warnings.warn(\n",
            "/usr/local/lib/python3.10/dist-packages/sklearn/linear_model/_sag.py:350: ConvergenceWarning: The max_iter was reached which means the coef_ did not converge\n",
            "  warnings.warn(\n",
            "/usr/local/lib/python3.10/dist-packages/sklearn/linear_model/_sag.py:350: ConvergenceWarning: The max_iter was reached which means the coef_ did not converge\n",
            "  warnings.warn(\n",
            "/usr/local/lib/python3.10/dist-packages/sklearn/linear_model/_sag.py:350: ConvergenceWarning: The max_iter was reached which means the coef_ did not converge\n",
            "  warnings.warn(\n",
            "/usr/local/lib/python3.10/dist-packages/sklearn/linear_model/_sag.py:350: ConvergenceWarning: The max_iter was reached which means the coef_ did not converge\n",
            "  warnings.warn(\n",
            "/usr/local/lib/python3.10/dist-packages/sklearn/linear_model/_sag.py:350: ConvergenceWarning: The max_iter was reached which means the coef_ did not converge\n",
            "  warnings.warn(\n",
            "/usr/local/lib/python3.10/dist-packages/sklearn/linear_model/_sag.py:350: ConvergenceWarning: The max_iter was reached which means the coef_ did not converge\n",
            "  warnings.warn(\n",
            "/usr/local/lib/python3.10/dist-packages/sklearn/linear_model/_sag.py:350: ConvergenceWarning: The max_iter was reached which means the coef_ did not converge\n",
            "  warnings.warn(\n",
            "/usr/local/lib/python3.10/dist-packages/sklearn/linear_model/_sag.py:350: ConvergenceWarning: The max_iter was reached which means the coef_ did not converge\n",
            "  warnings.warn(\n",
            "/usr/local/lib/python3.10/dist-packages/sklearn/svm/_base.py:1244: ConvergenceWarning: Liblinear failed to converge, increase the number of iterations.\n",
            "  warnings.warn(\n",
            "/usr/local/lib/python3.10/dist-packages/sklearn/svm/_base.py:1244: ConvergenceWarning: Liblinear failed to converge, increase the number of iterations.\n",
            "  warnings.warn(\n",
            "/usr/local/lib/python3.10/dist-packages/sklearn/linear_model/_sag.py:350: ConvergenceWarning: The max_iter was reached which means the coef_ did not converge\n",
            "  warnings.warn(\n",
            "/usr/local/lib/python3.10/dist-packages/sklearn/linear_model/_sag.py:350: ConvergenceWarning: The max_iter was reached which means the coef_ did not converge\n",
            "  warnings.warn(\n",
            "/usr/local/lib/python3.10/dist-packages/sklearn/linear_model/_sag.py:350: ConvergenceWarning: The max_iter was reached which means the coef_ did not converge\n",
            "  warnings.warn(\n",
            "/usr/local/lib/python3.10/dist-packages/sklearn/linear_model/_sag.py:350: ConvergenceWarning: The max_iter was reached which means the coef_ did not converge\n",
            "  warnings.warn(\n",
            "/usr/local/lib/python3.10/dist-packages/sklearn/linear_model/_sag.py:350: ConvergenceWarning: The max_iter was reached which means the coef_ did not converge\n",
            "  warnings.warn(\n",
            "/usr/local/lib/python3.10/dist-packages/sklearn/linear_model/_sag.py:350: ConvergenceWarning: The max_iter was reached which means the coef_ did not converge\n",
            "  warnings.warn(\n",
            "/usr/local/lib/python3.10/dist-packages/sklearn/linear_model/_sag.py:350: ConvergenceWarning: The max_iter was reached which means the coef_ did not converge\n",
            "  warnings.warn(\n",
            "/usr/local/lib/python3.10/dist-packages/sklearn/linear_model/_sag.py:350: ConvergenceWarning: The max_iter was reached which means the coef_ did not converge\n",
            "  warnings.warn(\n",
            "/usr/local/lib/python3.10/dist-packages/sklearn/linear_model/_sag.py:350: ConvergenceWarning: The max_iter was reached which means the coef_ did not converge\n",
            "  warnings.warn(\n",
            "/usr/local/lib/python3.10/dist-packages/sklearn/linear_model/_sag.py:350: ConvergenceWarning: The max_iter was reached which means the coef_ did not converge\n",
            "  warnings.warn(\n",
            "/usr/local/lib/python3.10/dist-packages/sklearn/svm/_base.py:1244: ConvergenceWarning: Liblinear failed to converge, increase the number of iterations.\n",
            "  warnings.warn(\n",
            "/usr/local/lib/python3.10/dist-packages/sklearn/svm/_base.py:1244: ConvergenceWarning: Liblinear failed to converge, increase the number of iterations.\n",
            "  warnings.warn(\n",
            "/usr/local/lib/python3.10/dist-packages/sklearn/svm/_base.py:1244: ConvergenceWarning: Liblinear failed to converge, increase the number of iterations.\n",
            "  warnings.warn(\n",
            "/usr/local/lib/python3.10/dist-packages/sklearn/linear_model/_sag.py:350: ConvergenceWarning: The max_iter was reached which means the coef_ did not converge\n",
            "  warnings.warn(\n",
            "/usr/local/lib/python3.10/dist-packages/sklearn/linear_model/_sag.py:350: ConvergenceWarning: The max_iter was reached which means the coef_ did not converge\n",
            "  warnings.warn(\n",
            "/usr/local/lib/python3.10/dist-packages/sklearn/linear_model/_sag.py:350: ConvergenceWarning: The max_iter was reached which means the coef_ did not converge\n",
            "  warnings.warn(\n",
            "/usr/local/lib/python3.10/dist-packages/sklearn/linear_model/_sag.py:350: ConvergenceWarning: The max_iter was reached which means the coef_ did not converge\n",
            "  warnings.warn(\n",
            "/usr/local/lib/python3.10/dist-packages/sklearn/linear_model/_sag.py:350: ConvergenceWarning: The max_iter was reached which means the coef_ did not converge\n",
            "  warnings.warn(\n",
            "/usr/local/lib/python3.10/dist-packages/sklearn/linear_model/_sag.py:350: ConvergenceWarning: The max_iter was reached which means the coef_ did not converge\n",
            "  warnings.warn(\n",
            "/usr/local/lib/python3.10/dist-packages/sklearn/linear_model/_sag.py:350: ConvergenceWarning: The max_iter was reached which means the coef_ did not converge\n",
            "  warnings.warn(\n",
            "/usr/local/lib/python3.10/dist-packages/sklearn/linear_model/_sag.py:350: ConvergenceWarning: The max_iter was reached which means the coef_ did not converge\n",
            "  warnings.warn(\n",
            "/usr/local/lib/python3.10/dist-packages/sklearn/linear_model/_sag.py:350: ConvergenceWarning: The max_iter was reached which means the coef_ did not converge\n",
            "  warnings.warn(\n",
            "/usr/local/lib/python3.10/dist-packages/sklearn/linear_model/_sag.py:350: ConvergenceWarning: The max_iter was reached which means the coef_ did not converge\n",
            "  warnings.warn(\n"
          ]
        },
        {
          "output_type": "stream",
          "name": "stdout",
          "text": [
            "Best Parameters:  {'C': 10, 'penalty': 'l1', 'solver': 'liblinear'}\n",
            "Best Score:  0.7484708225522595\n"
          ]
        },
        {
          "output_type": "stream",
          "name": "stderr",
          "text": [
            "/usr/local/lib/python3.10/dist-packages/sklearn/svm/_base.py:1244: ConvergenceWarning: Liblinear failed to converge, increase the number of iterations.\n",
            "  warnings.warn(\n"
          ]
        }
      ]
    },
    {
      "cell_type": "markdown",
      "source": [
        "### KNN"
      ],
      "metadata": {
        "id": "0RTt7V5yLWO8"
      }
    },
    {
      "cell_type": "code",
      "source": [
        "from sklearn.neighbors import KNeighborsClassifier\n",
        "from sklearn.model_selection import GridSearchCV\n",
        "\n",
        "# Create a KNN classifier\n",
        "knn = KNeighborsClassifier()\n",
        "\n",
        "# Define the hyperparameters to tune\n",
        "param_grid = {'n_neighbors': [3, 5],\n",
        "              'weights': ['uniform', 'distance'],\n",
        "              'p': [1, 2, 3]}\n",
        "\n",
        "# Perform grid search using cross-validation\n",
        "grid_search = GridSearchCV(knn, param_grid, cv=5, scoring='accuracy')\n",
        "grid_search.fit(x_train, y_train)\n",
        "\n",
        "# Print the best hyperparameters and corresponding accuracy score\n",
        "print(\"Best hyperparameters:\", grid_search.best_params_)\n",
        "print(\"Best accuracy score:\", grid_search.best_score_)\n"
      ],
      "metadata": {
        "colab": {
          "base_uri": "https://localhost:8080/"
        },
        "id": "mO58YJM2LUlU",
        "outputId": "293167ef-b058-495e-93ed-63c2f48475be"
      },
      "execution_count": 14,
      "outputs": [
        {
          "output_type": "stream",
          "name": "stdout",
          "text": [
            "Best hyperparameters: {'n_neighbors': 5, 'p': 2, 'weights': 'uniform'}\n",
            "Best accuracy score: 0.9424517301572927\n"
          ]
        }
      ]
    },
    {
      "cell_type": "markdown",
      "source": [
        "### Decision Tree"
      ],
      "metadata": {
        "id": "PfFgjl4DLZrk"
      }
    },
    {
      "cell_type": "code",
      "source": [
        "from sklearn.tree import DecisionTreeClassifier\n",
        "from sklearn.model_selection import GridSearchCV\n",
        "\n",
        "# Define the model\n",
        "dec_tree = DecisionTreeClassifier()\n",
        "\n",
        "# Define the parameter grid\n",
        "param_grid = {\n",
        "    'max_depth': [3, 5, 10, None],\n",
        "    'min_samples_split': [2, 5, 10],\n",
        "    'min_samples_leaf': [1, 2, 4],\n",
        "    'max_features': ['auto', 'sqrt', 'log2']\n",
        "}\n",
        "\n",
        "# Define the grid search\n",
        "grid_search = GridSearchCV(dec_tree, param_grid=param_grid, cv=5, n_jobs=-1)\n",
        "\n",
        "# Fit the grid search to the data\n",
        "grid_search.fit(x_train, y_train)\n",
        "\n",
        "# Print the best parameters and score\n",
        "print(\"Best parameters: \", grid_search.best_params_)\n",
        "print(\"Best score: \", grid_search.best_score_)\n"
      ],
      "metadata": {
        "colab": {
          "base_uri": "https://localhost:8080/"
        },
        "id": "VcYahr80LYJE",
        "outputId": "8596c572-12f8-4ff9-de9f-7ef6e4bf1be4"
      },
      "execution_count": 15,
      "outputs": [
        {
          "output_type": "stream",
          "name": "stdout",
          "text": [
            "Best parameters:  {'max_depth': 10, 'max_features': 'log2', 'min_samples_leaf': 2, 'min_samples_split': 5}\n",
            "Best score:  0.9500500576146594\n"
          ]
        }
      ]
    },
    {
      "cell_type": "markdown",
      "source": [
        "### Random Forest"
      ],
      "metadata": {
        "id": "8cRKPuwJLhte"
      }
    },
    {
      "cell_type": "code",
      "source": [
        "from sklearn.model_selection import GridSearchCV\n",
        "from sklearn.ensemble import RandomForestClassifier\n",
        "\n",
        "# Define the parameter grid\n",
        "param_grid = {\n",
        "    'n_estimators': [50, 100, 150],\n",
        "    'max_depth': [5, 10, 15],\n",
        "    'min_samples_split': [2, 5, 10]\n",
        "}\n",
        "\n",
        "# Create a random forest classifier\n",
        "rfc = RandomForestClassifier()\n",
        "\n",
        "# Create the grid search object\n",
        "grid_search = GridSearchCV(estimator=rfc, param_grid=param_grid, cv=5)\n",
        "\n",
        "# Fit the grid search to the data\n",
        "grid_search.fit(x_train, y_train)\n",
        "\n",
        "# Print the best parameters and score\n",
        "print(\"Best parameters: \", grid_search.best_params_)\n",
        "print(\"Best score: \", grid_search.best_score_)\n"
      ],
      "metadata": {
        "colab": {
          "base_uri": "https://localhost:8080/"
        },
        "id": "PP6bQsSILgWe",
        "outputId": "dd0d3605-a12a-4b26-af28-c2a269f4f042"
      },
      "execution_count": 16,
      "outputs": [
        {
          "output_type": "stream",
          "name": "stdout",
          "text": [
            "Best parameters:  {'max_depth': 15, 'min_samples_split': 10, 'n_estimators': 150}\n",
            "Best score:  0.9551902220584516\n"
          ]
        }
      ]
    },
    {
      "cell_type": "markdown",
      "source": [
        "### GRU"
      ],
      "metadata": {
        "id": "-TICCE5LLm-n"
      }
    },
    {
      "cell_type": "code",
      "source": [
        "# x_train = np.expand_dims(x_train, axis=0)\n",
        "# x_train.shape"
      ],
      "metadata": {
        "id": "DYaKJ04iLkcq"
      },
      "execution_count": 17,
      "outputs": []
    },
    {
      "cell_type": "code",
      "source": [
        "# from tensorflow.keras.models import Sequential\n",
        "# from tensorflow.keras.layers import GRU, Dense\n",
        "\n",
        "# model = Sequential()\n",
        "\n",
        "# # Add a GRU layer with 32 units and input shape (timesteps, features)\n",
        "# model.add(GRU(units=32, input_shape=(x_train.shape[1], x_train.shape[2])))\n",
        "# # Add a Dense layer with 1 unit and sigmoid activation function\n",
        "# model.add(Dense(units=1, activation='sigmoid'))\n",
        "\n",
        "# # Compile the model with binary crossentropy loss and adam optimizer\n",
        "# model.compile(optimizer='adam', loss='binary_crossentropy', metrics=['accuracy'])\n",
        "\n",
        "# # Print the model summary\n",
        "# print(model.summary())"
      ],
      "metadata": {
        "id": "xC9RfIB0Lp7G"
      },
      "execution_count": null,
      "outputs": []
    },
    {
      "cell_type": "code",
      "source": [
        "# def data_generator(X, y, batch_size):\n",
        "#     num_batches = len(X) // batch_size\n",
        "#     while True:\n",
        "#         for i in range(num_batches):\n",
        "#             batch_X = X[i*batch_size:(i+1)*batch_size]\n",
        "#             batch_y = y[i*batch_size:(i+1)*batch_size]\n",
        "#             yield batch_X, batch_y"
      ],
      "metadata": {
        "id": "akT_UIoNLt5C"
      },
      "execution_count": null,
      "outputs": []
    },
    {
      "cell_type": "code",
      "source": [
        "# batch_size = 26\n",
        "\n",
        "# train_generator = data_generator(X_train, y_train, batch_size=batch_size)\n",
        "# steps_per_epoch = len(X_train) // batch_size\n",
        "\n",
        "# model.fit(train_generator, steps_per_epoch=steps_per_epoch, epochs=1, verbose=1)"
      ],
      "metadata": {
        "id": "J2Z6DmwtLwVX"
      },
      "execution_count": null,
      "outputs": []
    },
    {
      "cell_type": "markdown",
      "source": [
        "### Basic Sequential Model"
      ],
      "metadata": {
        "id": "L0wwnhAQL0Dd"
      }
    },
    {
      "cell_type": "code",
      "source": [
        "# from tensorflow.keras.models import Sequential\n",
        "# from tensorflow.keras.layers import Dense\n",
        "\n",
        "# # Define the model architecture\n",
        "# model = Sequential()\n",
        "# model.add(Dense(units=64, activation='relu', input_shape=(x_train.shape[1],)))\n",
        "# model.add(Dense(units=32, activation='relu'))\n",
        "# model.add(Dense(units=1, activation='sigmoid'))\n",
        "\n",
        "# # Compile the model\n",
        "# model.compile(optimizer='adam', loss='binary_crossentropy', metrics=['accuracy'])\n"
      ],
      "metadata": {
        "id": "4p4TPCJDLw0k"
      },
      "execution_count": null,
      "outputs": []
    },
    {
      "cell_type": "code",
      "source": [
        "\n",
        "# # Train the model\n",
        "# batch_size = 2\n",
        "# model.fit(data_generator(x_train, y_train, batch_size), validation_data=(x_test,y_test), epochs=1)\n"
      ],
      "metadata": {
        "id": "bfjfOQ-kLzax"
      },
      "execution_count": null,
      "outputs": []
    },
    {
      "cell_type": "markdown",
      "source": [
        "## Applying the Best Model"
      ],
      "metadata": {
        "id": "J0lB2d2nMBET"
      }
    },
    {
      "cell_type": "code",
      "source": [
        "from sklearn.ensemble import RandomForestClassifier\n",
        "from sklearn.metrics import confusion_matrix\n",
        "from sklearn.metrics import accuracy_score\n",
        "from sklearn import metrics\n",
        "\n",
        "# Initialize the Random Forest Classifier with the specified hyperparameters\n",
        "rfc = RandomForestClassifier(n_estimators=150, max_depth=15, min_samples_split=10)\n",
        "\n",
        "# Fit the classifier to your training data\n",
        "rfc.fit(x_train, y_train)\n",
        "\n",
        "# Predict the classes of your test data\n",
        "y_pred = rfc.predict(x_test)\n",
        "\n",
        "conf_mat = confusion_matrix(y_test,y_pred)\n",
        "\n",
        "print(\"accuracy of RF': {}\".format(accuracy_score(y_pred,y_test)))\n",
        "print(conf_mat)\n",
        "print(metrics.classification_report(y_test,y_pred))"
      ],
      "metadata": {
        "colab": {
          "base_uri": "https://localhost:8080/"
        },
        "id": "2WIN4-wAMGbu",
        "outputId": "2d927954-af53-4882-b575-5cb7d4589b42"
      },
      "execution_count": 18,
      "outputs": [
        {
          "output_type": "stream",
          "name": "stdout",
          "text": [
            "accuracy of RF': 0.9525547445255474\n",
            "[[3606   15]\n",
            " [ 167   48]]\n",
            "              precision    recall  f1-score   support\n",
            "\n",
            "           0       0.96      1.00      0.98      3621\n",
            "           1       0.76      0.22      0.35       215\n",
            "\n",
            "    accuracy                           0.95      3836\n",
            "   macro avg       0.86      0.61      0.66      3836\n",
            "weighted avg       0.94      0.95      0.94      3836\n",
            "\n"
          ]
        }
      ]
    },
    {
      "cell_type": "code",
      "source": [
        "import pickle\n",
        "pickle.dump(rfc, open('RF_model_CCS', 'wb'))"
      ],
      "metadata": {
        "id": "L0jcePF6M1Wy"
      },
      "execution_count": 19,
      "outputs": []
    },
    {
      "cell_type": "markdown",
      "source": [
        "\n",
        "# Credits\n",
        "\n",
        "---\n",
        "\n",
        "\n",
        "\n",
        "**Directed By:**\n",
        "\n",
        "Member 1: [Eslam Shouman](https://www.linkedin.com/in/eslam-shouman-0958091b4/)\n",
        "\n",
        "Member 2: [Rawan ibrahim](https://www.linkedin.com/in/rawan-ibrahim-a01778268) \n",
        "\n",
        "Member 3: [Mohamed Mahmoud](https://www.linkedin.com/in/mohamed-mahmoud07) \n",
        "\n",
        "\n",
        "**Date of creation:**\n",
        "\n",
        "- **29 April 2023**"
      ],
      "metadata": {
        "id": "5TjsTEVhNFuB"
      }
    }
  ]
}