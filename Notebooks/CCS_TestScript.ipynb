{
  "cells": [
    {
      "cell_type": "code",
      "execution_count": 4,
      "metadata": {
        "id": "Hx9yA896b4T9"
      },
      "outputs": [],
      "source": [
        "# #preprocessing\n",
        "# nltk.download('punkt')\n",
        "# nltk.download('stopwords')\n",
        "# nltk.download('wordnet')\n",
        "# nltk.download('words')\n",
        "# nltk.download('omw-1.4')\n",
        "# #detecting non-english\n",
        "# !pip install langdetect\n",
        "# !pip install langid\n",
        "# #correcting spelling\n",
        "# !pip install jedi\n",
        "# !pip install pyspellchecker\n",
        "# !pip install autocorrect\n",
        "# !pip install pyenchant\n",
        "# !pip install transformers"
      ]
    },
    {
      "cell_type": "code",
      "execution_count": 5,
      "metadata": {
        "id": "c28NvA4LZXLp"
      },
      "outputs": [],
      "source": [
        "import pandas as pd\n",
        "\n",
        "import re\n",
        "\n",
        "import nltk\n",
        "from nltk.corpus import stopwords\n",
        "from nltk.tokenize import sent_tokenize\n",
        "from nltk.stem import WordNetLemmatizer\n",
        "from nltk.corpus import words as nltk_words\n",
        "from nltk.tokenize import word_tokenize\n",
        "from nltk.corpus import wordnet\n",
        "\n",
        "from langdetect import detect\n",
        "import langid\n",
        "\n",
        "import autocorrect\n",
        "from spellchecker import SpellChecker\n",
        "\n",
        "\n",
        "import plotly.graph_objs as go\n",
        "\n",
        "import torch\n",
        "from transformers import BertTokenizer, BertModel\n",
        "\n",
        "from sklearn.model_selection import train_test_split\n",
        "from transformers import BertTokenizer, BertForSequenceClassification, AdamW\n",
        "\n",
        "import spacy\n",
        "from spacy.lang.en.stop_words import STOP_WORDS\n",
        "from spacy.lang.en import English\n",
        "from wordcloud import WordCloud\n",
        "\n",
        "import matplotlib.pyplot as plt\n",
        "import seaborn as sns\n",
        "import pickle\n",
        "\n",
        "%matplotlib inline"
      ]
    },
    {
      "cell_type": "code",
      "execution_count": 6,
      "metadata": {
        "id": "yf2GmjxVZlXj"
      },
      "outputs": [],
      "source": [
        "df = pd.read_csv(\"test_CCS.csv\")"
      ]
    },
    {
      "cell_type": "code",
      "execution_count": 7,
      "metadata": {
        "colab": {
          "base_uri": "https://localhost:8080/",
          "height": 686
        },
        "id": "SfRkYkJsZw_C",
        "outputId": "ac767a4b-ca7f-495b-b723-3ca9fa655378"
      },
      "outputs": [
        {
          "output_type": "execute_result",
          "data": {
            "text/plain": [
              "                                           job title        office location  \\\n",
              "0  Commercial/Industrial Construction Superintendent  US, WA, Skagit County   \n",
              "1                    Title Closer / Settlement Agent       US, VA, Richmond   \n",
              "2                                 Back-end Developer      NL, NH, Amsterdam   \n",
              "3                            Full-time Web Developer                 PH, ,    \n",
              "4                                    Program Manager  US, CA, Mountain View   \n",
              "\n",
              "  department salary offered for the job  \\\n",
              "0        NaN                        NaN   \n",
              "1        NaN                        NaN   \n",
              "2         IT                        NaN   \n",
              "3        NaN              528000-636000   \n",
              "4        NaN                        NaN   \n",
              "\n",
              "                                 company information  \\\n",
              "0                                                NaN   \n",
              "1  Network Closing Services has been serving Lend...   \n",
              "2  About the CompanyWe are ticketscript - the Eur...   \n",
              "3                                                NaN   \n",
              "4  Come be a part of one of the fastest growing, ...   \n",
              "\n",
              "                                     job description  \\\n",
              "0  Seeking qualified candidates for a full-time s...   \n",
              "1  Looking for a change?  Not happy where you are...   \n",
              "2  About the CompanyWe are ticketscript - the Eur...   \n",
              "3                                             #NAME?   \n",
              "4  We are looking for a Program Manager who can h...   \n",
              "\n",
              "                                    job requirements  \\\n",
              "0  Minimum five years of construction management ...   \n",
              "1  Are you a top Closer in your market? Are you a...   \n",
              "2  Your profileThe basics- 5+ years of experience...   \n",
              "3  - Must have extensive knowledge of CMS framewo...   \n",
              "4  Desired skills…10+ years of industry experienc...   \n",
              "\n",
              "                                            benefits  telecommuting  \\\n",
              "0  401K, company vehicle, health, vision and dent...              0   \n",
              "1  We provide a fun and rewarding atmosphere, our...              0   \n",
              "2  Our offerA competitive salary within an intern...              0   \n",
              "3                                                NaN              0   \n",
              "4  Competitive base salaryStock OptionsFull benef...              0   \n",
              "\n",
              "   company logo exist?  has_questions employment_type experience required  \\\n",
              "0                    0              1       Full-time                 NaN   \n",
              "1                    1              1       Full-time    Mid-Senior level   \n",
              "2                    1              0       Full-time           Associate   \n",
              "3                    1              0       Full-time      Not Applicable   \n",
              "4                    1              1       Full-time                 NaN   \n",
              "\n",
              "  education required                             industry  \\\n",
              "0        Unspecified                         Construction   \n",
              "1                NaN                          Real Estate   \n",
              "2                NaN                    Computer Software   \n",
              "3        Unspecified  Information Technology and Services   \n",
              "4                NaN                                  NaN   \n",
              "\n",
              "                 function fake?  \n",
              "0              Management    no  \n",
              "1                     NaN    no  \n",
              "2  Information Technology    no  \n",
              "3  Information Technology    no  \n",
              "4                     NaN    no  "
            ],
            "text/html": [
              "\n",
              "  <div id=\"df-2f14aaf8-191f-49c1-b6bd-042bfee18a91\">\n",
              "    <div class=\"colab-df-container\">\n",
              "      <div>\n",
              "<style scoped>\n",
              "    .dataframe tbody tr th:only-of-type {\n",
              "        vertical-align: middle;\n",
              "    }\n",
              "\n",
              "    .dataframe tbody tr th {\n",
              "        vertical-align: top;\n",
              "    }\n",
              "\n",
              "    .dataframe thead th {\n",
              "        text-align: right;\n",
              "    }\n",
              "</style>\n",
              "<table border=\"1\" class=\"dataframe\">\n",
              "  <thead>\n",
              "    <tr style=\"text-align: right;\">\n",
              "      <th></th>\n",
              "      <th>job title</th>\n",
              "      <th>office location</th>\n",
              "      <th>department</th>\n",
              "      <th>salary offered for the job</th>\n",
              "      <th>company information</th>\n",
              "      <th>job description</th>\n",
              "      <th>job requirements</th>\n",
              "      <th>benefits</th>\n",
              "      <th>telecommuting</th>\n",
              "      <th>company logo exist?</th>\n",
              "      <th>has_questions</th>\n",
              "      <th>employment_type</th>\n",
              "      <th>experience required</th>\n",
              "      <th>education required</th>\n",
              "      <th>industry</th>\n",
              "      <th>function</th>\n",
              "      <th>fake?</th>\n",
              "    </tr>\n",
              "  </thead>\n",
              "  <tbody>\n",
              "    <tr>\n",
              "      <th>0</th>\n",
              "      <td>Commercial/Industrial Construction Superintendent</td>\n",
              "      <td>US, WA, Skagit County</td>\n",
              "      <td>NaN</td>\n",
              "      <td>NaN</td>\n",
              "      <td>NaN</td>\n",
              "      <td>Seeking qualified candidates for a full-time s...</td>\n",
              "      <td>Minimum five years of construction management ...</td>\n",
              "      <td>401K, company vehicle, health, vision and dent...</td>\n",
              "      <td>0</td>\n",
              "      <td>0</td>\n",
              "      <td>1</td>\n",
              "      <td>Full-time</td>\n",
              "      <td>NaN</td>\n",
              "      <td>Unspecified</td>\n",
              "      <td>Construction</td>\n",
              "      <td>Management</td>\n",
              "      <td>no</td>\n",
              "    </tr>\n",
              "    <tr>\n",
              "      <th>1</th>\n",
              "      <td>Title Closer / Settlement Agent</td>\n",
              "      <td>US, VA, Richmond</td>\n",
              "      <td>NaN</td>\n",
              "      <td>NaN</td>\n",
              "      <td>Network Closing Services has been serving Lend...</td>\n",
              "      <td>Looking for a change?  Not happy where you are...</td>\n",
              "      <td>Are you a top Closer in your market? Are you a...</td>\n",
              "      <td>We provide a fun and rewarding atmosphere, our...</td>\n",
              "      <td>0</td>\n",
              "      <td>1</td>\n",
              "      <td>1</td>\n",
              "      <td>Full-time</td>\n",
              "      <td>Mid-Senior level</td>\n",
              "      <td>NaN</td>\n",
              "      <td>Real Estate</td>\n",
              "      <td>NaN</td>\n",
              "      <td>no</td>\n",
              "    </tr>\n",
              "    <tr>\n",
              "      <th>2</th>\n",
              "      <td>Back-end Developer</td>\n",
              "      <td>NL, NH, Amsterdam</td>\n",
              "      <td>IT</td>\n",
              "      <td>NaN</td>\n",
              "      <td>About the CompanyWe are ticketscript - the Eur...</td>\n",
              "      <td>About the CompanyWe are ticketscript - the Eur...</td>\n",
              "      <td>Your profileThe basics- 5+ years of experience...</td>\n",
              "      <td>Our offerA competitive salary within an intern...</td>\n",
              "      <td>0</td>\n",
              "      <td>1</td>\n",
              "      <td>0</td>\n",
              "      <td>Full-time</td>\n",
              "      <td>Associate</td>\n",
              "      <td>NaN</td>\n",
              "      <td>Computer Software</td>\n",
              "      <td>Information Technology</td>\n",
              "      <td>no</td>\n",
              "    </tr>\n",
              "    <tr>\n",
              "      <th>3</th>\n",
              "      <td>Full-time Web Developer</td>\n",
              "      <td>PH, ,</td>\n",
              "      <td>NaN</td>\n",
              "      <td>528000-636000</td>\n",
              "      <td>NaN</td>\n",
              "      <td>#NAME?</td>\n",
              "      <td>- Must have extensive knowledge of CMS framewo...</td>\n",
              "      <td>NaN</td>\n",
              "      <td>0</td>\n",
              "      <td>1</td>\n",
              "      <td>0</td>\n",
              "      <td>Full-time</td>\n",
              "      <td>Not Applicable</td>\n",
              "      <td>Unspecified</td>\n",
              "      <td>Information Technology and Services</td>\n",
              "      <td>Information Technology</td>\n",
              "      <td>no</td>\n",
              "    </tr>\n",
              "    <tr>\n",
              "      <th>4</th>\n",
              "      <td>Program Manager</td>\n",
              "      <td>US, CA, Mountain View</td>\n",
              "      <td>NaN</td>\n",
              "      <td>NaN</td>\n",
              "      <td>Come be a part of one of the fastest growing, ...</td>\n",
              "      <td>We are looking for a Program Manager who can h...</td>\n",
              "      <td>Desired skills…10+ years of industry experienc...</td>\n",
              "      <td>Competitive base salaryStock OptionsFull benef...</td>\n",
              "      <td>0</td>\n",
              "      <td>1</td>\n",
              "      <td>1</td>\n",
              "      <td>Full-time</td>\n",
              "      <td>NaN</td>\n",
              "      <td>NaN</td>\n",
              "      <td>NaN</td>\n",
              "      <td>NaN</td>\n",
              "      <td>no</td>\n",
              "    </tr>\n",
              "  </tbody>\n",
              "</table>\n",
              "</div>\n",
              "      <button class=\"colab-df-convert\" onclick=\"convertToInteractive('df-2f14aaf8-191f-49c1-b6bd-042bfee18a91')\"\n",
              "              title=\"Convert this dataframe to an interactive table.\"\n",
              "              style=\"display:none;\">\n",
              "        \n",
              "  <svg xmlns=\"http://www.w3.org/2000/svg\" height=\"24px\"viewBox=\"0 0 24 24\"\n",
              "       width=\"24px\">\n",
              "    <path d=\"M0 0h24v24H0V0z\" fill=\"none\"/>\n",
              "    <path d=\"M18.56 5.44l.94 2.06.94-2.06 2.06-.94-2.06-.94-.94-2.06-.94 2.06-2.06.94zm-11 1L8.5 8.5l.94-2.06 2.06-.94-2.06-.94L8.5 2.5l-.94 2.06-2.06.94zm10 10l.94 2.06.94-2.06 2.06-.94-2.06-.94-.94-2.06-.94 2.06-2.06.94z\"/><path d=\"M17.41 7.96l-1.37-1.37c-.4-.4-.92-.59-1.43-.59-.52 0-1.04.2-1.43.59L10.3 9.45l-7.72 7.72c-.78.78-.78 2.05 0 2.83L4 21.41c.39.39.9.59 1.41.59.51 0 1.02-.2 1.41-.59l7.78-7.78 2.81-2.81c.8-.78.8-2.07 0-2.86zM5.41 20L4 18.59l7.72-7.72 1.47 1.35L5.41 20z\"/>\n",
              "  </svg>\n",
              "      </button>\n",
              "      \n",
              "  <style>\n",
              "    .colab-df-container {\n",
              "      display:flex;\n",
              "      flex-wrap:wrap;\n",
              "      gap: 12px;\n",
              "    }\n",
              "\n",
              "    .colab-df-convert {\n",
              "      background-color: #E8F0FE;\n",
              "      border: none;\n",
              "      border-radius: 50%;\n",
              "      cursor: pointer;\n",
              "      display: none;\n",
              "      fill: #1967D2;\n",
              "      height: 32px;\n",
              "      padding: 0 0 0 0;\n",
              "      width: 32px;\n",
              "    }\n",
              "\n",
              "    .colab-df-convert:hover {\n",
              "      background-color: #E2EBFA;\n",
              "      box-shadow: 0px 1px 2px rgba(60, 64, 67, 0.3), 0px 1px 3px 1px rgba(60, 64, 67, 0.15);\n",
              "      fill: #174EA6;\n",
              "    }\n",
              "\n",
              "    [theme=dark] .colab-df-convert {\n",
              "      background-color: #3B4455;\n",
              "      fill: #D2E3FC;\n",
              "    }\n",
              "\n",
              "    [theme=dark] .colab-df-convert:hover {\n",
              "      background-color: #434B5C;\n",
              "      box-shadow: 0px 1px 3px 1px rgba(0, 0, 0, 0.15);\n",
              "      filter: drop-shadow(0px 1px 2px rgba(0, 0, 0, 0.3));\n",
              "      fill: #FFFFFF;\n",
              "    }\n",
              "  </style>\n",
              "\n",
              "      <script>\n",
              "        const buttonEl =\n",
              "          document.querySelector('#df-2f14aaf8-191f-49c1-b6bd-042bfee18a91 button.colab-df-convert');\n",
              "        buttonEl.style.display =\n",
              "          google.colab.kernel.accessAllowed ? 'block' : 'none';\n",
              "\n",
              "        async function convertToInteractive(key) {\n",
              "          const element = document.querySelector('#df-2f14aaf8-191f-49c1-b6bd-042bfee18a91');\n",
              "          const dataTable =\n",
              "            await google.colab.kernel.invokeFunction('convertToInteractive',\n",
              "                                                     [key], {});\n",
              "          if (!dataTable) return;\n",
              "\n",
              "          const docLinkHtml = 'Like what you see? Visit the ' +\n",
              "            '<a target=\"_blank\" href=https://colab.research.google.com/notebooks/data_table.ipynb>data table notebook</a>'\n",
              "            + ' to learn more about interactive tables.';\n",
              "          element.innerHTML = '';\n",
              "          dataTable['output_type'] = 'display_data';\n",
              "          await google.colab.output.renderOutput(dataTable, element);\n",
              "          const docLink = document.createElement('div');\n",
              "          docLink.innerHTML = docLinkHtml;\n",
              "          element.appendChild(docLink);\n",
              "        }\n",
              "      </script>\n",
              "    </div>\n",
              "  </div>\n",
              "  "
            ]
          },
          "metadata": {},
          "execution_count": 7
        }
      ],
      "source": [
        "df.head()"
      ]
    },
    {
      "cell_type": "code",
      "execution_count": 8,
      "metadata": {
        "colab": {
          "base_uri": "https://localhost:8080/"
        },
        "id": "OJ8ZO8A5Zy6G",
        "outputId": "90ef5b43-e3c0-40ec-f2f4-ea6a7a3aa2ef"
      },
      "outputs": [
        {
          "output_type": "stream",
          "name": "stdout",
          "text": [
            "<class 'pandas.core.frame.DataFrame'>\n",
            "RangeIndex: 3198 entries, 0 to 3197\n",
            "Data columns (total 17 columns):\n",
            " #   Column                      Non-Null Count  Dtype \n",
            "---  ------                      --------------  ----- \n",
            " 0   job title                   3198 non-null   object\n",
            " 1   office location             3153 non-null   object\n",
            " 2   department                  1115 non-null   object\n",
            " 3   salary offered for the job  505 non-null    object\n",
            " 4   company information         2621 non-null   object\n",
            " 5   job description             3197 non-null   object\n",
            " 6   job requirements            2729 non-null   object\n",
            " 7   benefits                    1976 non-null   object\n",
            " 8   telecommuting               3198 non-null   int64 \n",
            " 9   company logo exist?         3198 non-null   int64 \n",
            " 10  has_questions               3198 non-null   int64 \n",
            " 11  employment_type             2627 non-null   object\n",
            " 12  experience required         1973 non-null   object\n",
            " 13  education required          1792 non-null   object\n",
            " 14  industry                    2361 non-null   object\n",
            " 15  function                    2076 non-null   object\n",
            " 16  fake?                       3198 non-null   object\n",
            "dtypes: int64(3), object(14)\n",
            "memory usage: 424.9+ KB\n"
          ]
        }
      ],
      "source": [
        "df.info()"
      ]
    },
    {
      "cell_type": "code",
      "execution_count": 9,
      "metadata": {
        "colab": {
          "base_uri": "https://localhost:8080/"
        },
        "id": "ZvkfQAqwZ10h",
        "outputId": "f97d1d29-9349-4a8e-bc7a-7aeea3a516a7"
      },
      "outputs": [
        {
          "output_type": "execute_result",
          "data": {
            "text/plain": [
              "job title                        0\n",
              "office location                 45\n",
              "department                    2083\n",
              "salary offered for the job    2693\n",
              "company information            577\n",
              "job description                  1\n",
              "job requirements               469\n",
              "benefits                      1222\n",
              "telecommuting                    0\n",
              "company logo exist?              0\n",
              "has_questions                    0\n",
              "employment_type                571\n",
              "experience required           1225\n",
              "education required            1406\n",
              "industry                       837\n",
              "function                      1122\n",
              "fake?                            0\n",
              "dtype: int64"
            ]
          },
          "metadata": {},
          "execution_count": 9
        }
      ],
      "source": [
        "#CHECKING the precentage of NULL VALUES\n",
        "nulls=df.isnull().sum()\n",
        "nulls"
      ]
    },
    {
      "cell_type": "code",
      "execution_count": 10,
      "metadata": {
        "id": "KPMH8g_VaCm9"
      },
      "outputs": [],
      "source": [
        "df[\"employment_type\"].fillna(value=\"Other\", inplace=True)\n",
        "df[\"experience required\"].fillna(value=\"Not Applicable\", inplace=True)\n",
        "df[\"education required\"].fillna(value=\"Unspecified\", inplace=True)"
      ]
    },
    {
      "cell_type": "code",
      "execution_count": 11,
      "metadata": {
        "id": "F4ibb6O7aNma"
      },
      "outputs": [],
      "source": [
        "df.fillna(value=\"not mentioned\", inplace=True)"
      ]
    },
    {
      "cell_type": "code",
      "execution_count": 12,
      "metadata": {
        "colab": {
          "base_uri": "https://localhost:8080/"
        },
        "id": "bPXL7WpqaOT_",
        "outputId": "c351b33b-0513-4199-b7e8-6f5e84e85881"
      },
      "outputs": [
        {
          "output_type": "execute_result",
          "data": {
            "text/plain": [
              "job title                     0\n",
              "office location               0\n",
              "department                    0\n",
              "salary offered for the job    0\n",
              "company information           0\n",
              "job description               0\n",
              "job requirements              0\n",
              "benefits                      0\n",
              "telecommuting                 0\n",
              "company logo exist?           0\n",
              "has_questions                 0\n",
              "employment_type               0\n",
              "experience required           0\n",
              "education required            0\n",
              "industry                      0\n",
              "function                      0\n",
              "fake?                         0\n",
              "dtype: int64"
            ]
          },
          "metadata": {},
          "execution_count": 12
        }
      ],
      "source": [
        "#CHECKING the precentage of NULL VALUES\n",
        "nulls=df.isnull().sum()\n",
        "nulls"
      ]
    },
    {
      "cell_type": "code",
      "execution_count": 13,
      "metadata": {
        "id": "pkYR2ZACaPvO"
      },
      "outputs": [],
      "source": [
        "df[\"Full job\"] = \"job title: \" + df[\"job title\"] + \" - the location of the company is \" + df[\"office location\"] + \" - the depatment you will work at is \" + df[\"department\"] + \" - the salary offered is \" + df[\"salary offered for the job\"] + \" - and here is the company information: \" + df[\"company information\"] + \" - the job description: \" +df[\"job description\"] + \" - and here are the requirments of the job: \" + df[\"job requirements\"] + \" - the benfits you will gain: \" + df[\"benefits\"] + \" - industry: \" + df[\"industry\"] + \" - you funtion: \" + df[\"function\"]"
      ]
    },
    {
      "cell_type": "code",
      "execution_count": 14,
      "metadata": {
        "id": "nrWsr143aVNx"
      },
      "outputs": [],
      "source": [
        "#incoding fake? column\n",
        "df[\"fake?\"].replace(to_replace=\"no\",value=0,inplace=True)\n",
        "df[\"fake?\"].replace(to_replace=\"yes\",value=1,inplace=True)"
      ]
    },
    {
      "cell_type": "code",
      "execution_count": 15,
      "metadata": {
        "id": "ptcj0KyOaYV8"
      },
      "outputs": [],
      "source": [
        "df.drop(\"job title\" ,axis = 1 , inplace = True)\n",
        "df.drop(\"office location\" ,axis = 1 , inplace = True)\n",
        "df.drop(\"department\" ,axis = 1 , inplace = True)\n",
        "df.drop(\"salary offered for the job\" ,axis = 1 , inplace = True)\n",
        "df.drop(\"company information\" ,axis = 1 , inplace = True)\n",
        "df.drop(\"job description\" ,axis = 1 , inplace = True)\n",
        "df.drop(\"job requirements\" ,axis = 1 , inplace = True)\n",
        "df.drop(\"benefits\" ,axis = 1 , inplace = True)\n",
        "df.drop(\"industry\" ,axis = 1 , inplace = True)\n",
        "df.drop(\"function\" ,axis = 1 , inplace = True)"
      ]
    },
    {
      "cell_type": "code",
      "execution_count": 16,
      "metadata": {
        "id": "UFI2XB6SabxK"
      },
      "outputs": [],
      "source": [
        "df[\"employment_type\"].replace(to_replace=\"Other\",value=0,inplace=True)\n",
        "df[\"employment_type\"].replace(to_replace=\"Temporary\",value=1,inplace=True)\n",
        "df[\"employment_type\"].replace(to_replace=\"Part-time\",value=2,inplace=True)\n",
        "df[\"employment_type\"].replace(to_replace=\"Full-time\",value=3,inplace=True)\n",
        "df[\"employment_type\"].replace(to_replace=\"Contract\",value=4,inplace=True)"
      ]
    },
    {
      "cell_type": "code",
      "execution_count": 17,
      "metadata": {
        "id": "V4QgisqAae3o"
      },
      "outputs": [],
      "source": [
        "df[\"experience required\"].replace(to_replace=\"Not Applicable\",value=0,inplace=True)\n",
        "df[\"experience required\"].replace(to_replace=\"Internship\",value=1,inplace=True)\n",
        "df[\"experience required\"].replace(to_replace=\"Entry level\",value=2,inplace=True)\n",
        "df[\"experience required\"].replace(to_replace=\"Mid-Senior level\",value=3,inplace=True)\n",
        "df[\"experience required\"].replace(to_replace=\"Associate\",value=4,inplace=True)\n",
        "df[\"experience required\"].replace(to_replace=\"Executive\",value=5,inplace=True)\n",
        "df[\"experience required\"].replace(to_replace=\"Director\",value=6,inplace=True)"
      ]
    },
    {
      "cell_type": "code",
      "execution_count": 18,
      "metadata": {
        "id": "LVaz8KjMalOL"
      },
      "outputs": [],
      "source": [
        "label_encoder = pickle.load(open('encoder', 'rb'))\n",
        "df['education required']= label_encoder.transform(df['education required'])"
      ]
    },
    {
      "cell_type": "code",
      "execution_count": 19,
      "metadata": {
        "colab": {
          "base_uri": "https://localhost:8080/"
        },
        "id": "fIilzSRZbcN4",
        "outputId": "8979a532-8ce6-41b1-ca31-7eef66a7cb84"
      },
      "outputs": [
        {
          "output_type": "stream",
          "name": "stdout",
          "text": [
            "<class 'pandas.core.frame.DataFrame'>\n",
            "RangeIndex: 3198 entries, 0 to 3197\n",
            "Data columns (total 8 columns):\n",
            " #   Column               Non-Null Count  Dtype \n",
            "---  ------               --------------  ----- \n",
            " 0   telecommuting        3198 non-null   int64 \n",
            " 1   company logo exist?  3198 non-null   int64 \n",
            " 2   has_questions        3198 non-null   int64 \n",
            " 3   employment_type      3198 non-null   int64 \n",
            " 4   experience required  3198 non-null   int64 \n",
            " 5   education required   3198 non-null   int64 \n",
            " 6   fake?                3198 non-null   int64 \n",
            " 7   Full job             3198 non-null   object\n",
            "dtypes: int64(7), object(1)\n",
            "memory usage: 200.0+ KB\n"
          ]
        }
      ],
      "source": [
        "df.info()"
      ]
    },
    {
      "cell_type": "code",
      "execution_count": 20,
      "metadata": {
        "id": "spqnohN5boVG"
      },
      "outputs": [],
      "source": [
        "def separate_concatenated_words(text):\n",
        "    if isinstance(text, str):\n",
        "        # Split concatenated words with white space\n",
        "        words = re.findall(r'\\w+', text)\n",
        "        separated_words = [re.sub('([a-z])([A-Z])', r'\\1 \\2', word) for word in words]\n",
        "        return ' '.join(separated_words)\n",
        "    else:\n",
        "        return text"
      ]
    },
    {
      "cell_type": "code",
      "execution_count": 21,
      "metadata": {
        "id": "6STmMyoabtit"
      },
      "outputs": [],
      "source": [
        "df['Full job']=df['Full job'].apply(separate_concatenated_words)"
      ]
    },
    {
      "cell_type": "code",
      "execution_count": 22,
      "metadata": {
        "id": "HuZ33Zebbu1a"
      },
      "outputs": [],
      "source": [
        "def preprocess_text(text):\n",
        "    if isinstance(text, str):\n",
        "        # Remove any URLs or email addresses\n",
        "        text = re.sub(r'http\\S+|www\\S+|https\\S+', '', text)\n",
        "        text = re.sub(r'\\S+@\\S+', '', text)\n",
        "\n",
        "        # Rea move any sequence of alphanumeric characters starting with 'URL'\n",
        "        text = re.sub(r'URL\\w+', '', text)\n",
        "\n",
        "        # Remove any non-alphanumeric characters\n",
        "        text = re.sub(r'[^a-zA-Z0-9\\s]', '', text)\n",
        "\n",
        "        # Split the text into sentences\n",
        "        sentences = sent_tokenize(text)\n",
        "\n",
        "        preprocessed_sentences = []\n",
        "        for sentence in sentences:\n",
        "            words = nltk.word_tokenize(sentence)\n",
        "\n",
        "            # Remove any word contains numbers\n",
        "            words = [word for word in words if not re.match('\\w*\\d\\w*', word)]\n",
        "\n",
        "            # Remove any word that is a stop word except \"not\", \"Not\", \"IT\", and \"it\"\n",
        "            stop_words = set(nltk.corpus.stopwords.words('english'))\n",
        "            stop_words.discard('not')\n",
        "            stop_words.discard('Not')\n",
        "            stop_words.discard('it')\n",
        "            stop_words.discard('IT')\n",
        "            words = [word for word in words if word.lower() not in stop_words or word.lower() in {'not', 'it'}]\n",
        "\n",
        "            preprocessed_sentence = ' '.join(words)\n",
        "            preprocessed_sentences.append(preprocessed_sentence)\n",
        "\n",
        "        # Join the preprocessed sentences back together into a single string\n",
        "        cleaned_text = ' '.join(preprocessed_sentences)\n",
        "\n",
        "        return cleaned_text\n",
        "    else:\n",
        "        return text\n"
      ]
    },
    {
      "cell_type": "code",
      "execution_count": 23,
      "metadata": {
        "id": "IAUrIcigcrGt"
      },
      "outputs": [],
      "source": [
        "df['Full job']= df['Full job'].apply(preprocess_text)"
      ]
    },
    {
      "cell_type": "code",
      "execution_count": 24,
      "metadata": {
        "id": "W783mWEzcw6O"
      },
      "outputs": [],
      "source": [
        "def replace_it(df, column_name):\n",
        "    df[column_name] = df[column_name].apply(lambda x: re.sub(r'\\b(it|It)\\b', '', x) if isinstance(x, str) else x)\n",
        "    df[column_name] = df[column_name].apply(lambda x: re.sub(r'\\bIT\\b', 'IT', x) if isinstance(x, str) else x)\n",
        "    return df"
      ]
    },
    {
      "cell_type": "code",
      "execution_count": 25,
      "metadata": {
        "id": "1qGbVuhnczYG"
      },
      "outputs": [],
      "source": [
        "#check if it's a noun then keep it else it's a stopword therefore it will be removed\n",
        "df = replace_it(df, 'Full job')"
      ]
    },
    {
      "cell_type": "code",
      "execution_count": 26,
      "metadata": {
        "id": "K2YMNEBqc0R6"
      },
      "outputs": [],
      "source": [
        "def remove_extra_whitespace(text):\n",
        "    if isinstance(text, str):\n",
        "        # Replace one or more whitespace characters with a single space\n",
        "        text = re.sub(r'\\s+', ' ', text)\n",
        "\n",
        "        return text.strip()  # Remove leading and trailing whitespace\n",
        "    else:\n",
        "        return text\n"
      ]
    },
    {
      "cell_type": "code",
      "execution_count": 27,
      "metadata": {
        "id": "JRuyUW09c1zH"
      },
      "outputs": [],
      "source": [
        "df = df.applymap(remove_extra_whitespace)"
      ]
    },
    {
      "cell_type": "code",
      "execution_count": 28,
      "metadata": {
        "id": "FkEcxjfgc3Rr"
      },
      "outputs": [],
      "source": [
        "def lowercase_text(df):\n",
        "    for col in df.columns:\n",
        "        if df[col].dtype == 'object':\n",
        "            df[col] = df[col].str.lower()\n",
        "    return df"
      ]
    },
    {
      "cell_type": "code",
      "execution_count": 29,
      "metadata": {
        "id": "VqfWZXVcc40X"
      },
      "outputs": [],
      "source": [
        "df = lowercase_text(df)  "
      ]
    },
    {
      "cell_type": "code",
      "execution_count": 30,
      "metadata": {
        "id": "0F5U_H55c6Cg"
      },
      "outputs": [],
      "source": [
        "def remove_duplicates(text):\n",
        "    if isinstance(text, list):\n",
        "        word_list = text\n",
        "    elif isinstance(text, str):\n",
        "        word_list = text.split()\n",
        "    else:\n",
        "        return text\n",
        "    \n",
        "    unique_words = []\n",
        "    for i, word in enumerate(word_list):\n",
        "        if word not in unique_words:\n",
        "            unique_words.append(word)\n",
        "        elif i == 0:\n",
        "            continue\n",
        "        else:\n",
        "            unique_words[-1] += ' ' + word\n",
        "    \n",
        "    if isinstance(text, list):\n",
        "        return unique_words\n",
        "    elif isinstance(text, str):\n",
        "        return ' '.join(unique_words)\n"
      ]
    },
    {
      "cell_type": "code",
      "execution_count": 31,
      "metadata": {
        "id": "hrXtjG4-c7rW"
      },
      "outputs": [],
      "source": [
        "df['Full job'] = df['Full job'].apply(remove_duplicates)"
      ]
    },
    {
      "cell_type": "code",
      "execution_count": 32,
      "metadata": {
        "id": "-J7l4Wr1c-h5"
      },
      "outputs": [],
      "source": [
        "df = df.applymap(remove_extra_whitespace)"
      ]
    },
    {
      "cell_type": "code",
      "execution_count": 33,
      "metadata": {
        "id": "WhqiJ7Lkc_68"
      },
      "outputs": [],
      "source": [
        "def lemmatize_text(text):\n",
        "    lemmatizer = WordNetLemmatizer()\n",
        "    if isinstance(text, str):\n",
        "        # Split the text into sentences\n",
        "        sentences = sent_tokenize(text)\n",
        "\n",
        "        # Lemmatize each word in each sentence\n",
        "        lemmatized_sentences = []\n",
        "        for sentence in sentences:\n",
        "            words = nltk.word_tokenize(sentence)\n",
        "            lemmatized_words = [lemmatizer.lemmatize(word) for word in words]\n",
        "            lemmatized_sentences.append(' '.join(lemmatized_words))\n",
        "\n",
        "        # Join the lemmatized sentences back together into a single string\n",
        "        lemmatized_text = ' '.join(lemmatized_sentences)\n",
        "        return lemmatized_text\n",
        "    else:\n",
        "        return text\n"
      ]
    },
    {
      "cell_type": "code",
      "execution_count": 34,
      "metadata": {
        "id": "hL233yMUdBTt"
      },
      "outputs": [],
      "source": [
        "df['Full job'] = df['Full job'].apply(lemmatize_text)"
      ]
    },
    {
      "cell_type": "code",
      "execution_count": 35,
      "metadata": {
        "id": "qgath_iXdDLC"
      },
      "outputs": [],
      "source": [
        "def remove_nonsense_words(text):\n",
        "    # Define a list of regular expressions to match non-sensical words\n",
        "    nonsense_patterns = [\n",
        "        r'ou{2,}',  # Match \"ou\" followed by 2 or more \"u\"s\n",
        "        r'[bcdfghjklmnpqrstvwxyz]{4,}',  # Match any sequence of 4 or more consonants\n",
        "        r'[aeiouy]{4,}',  # Match any sequence of 4 or more vowels\n",
        "        r'[^\\x00-\\x7F]+'  # Match any non-ASCII characters\n",
        "        r'[a-z]*(wi){3,}[a-z]*',        # Match any word with \"wi\" repeated 3 or more times\n",
        "        r'[a-z]*(x{n}o)+[a-z]*',        # Match any word with \"xno\" repeated one or more times\n",
        "        r'[a-z]*(e{2,})+[a-z]*',        # Match any word with \"ee\" repeated two or more times\n",
        "        r'n{2,}(e{2,})+[jkn]+',          # Match any word with \"n\" repeated two or more times followed by \"e\" repeated two or more times followed by one or more of \"j\", \"k\", or \"n\"\n",
        "        r'\\b\\w*(\\w)\\1{2,}\\w*\\b'  # Match any word containing the same character repeated 3 or more times consecutively\n",
        "    ]\n",
        "\n",
        "    # Combine the patterns into a single regular expression\n",
        "    pattern = '|'.join(nonsense_patterns)\n",
        "\n",
        "    # Use the regular expression to remove the nonsense words\n",
        "    return re.sub(pattern, '', text)\n"
      ]
    },
    {
      "cell_type": "code",
      "execution_count": 36,
      "metadata": {
        "id": "6emHAFD6dFfX"
      },
      "outputs": [],
      "source": [
        "df['Full job'] = df['Full job'].apply(remove_nonsense_words)"
      ]
    },
    {
      "cell_type": "code",
      "execution_count": 42,
      "metadata": {
        "id": "5mSuX8gqdnQJ"
      },
      "outputs": [],
      "source": [
        "df = df.rename(columns={'Full job': 'Job Info.'})"
      ]
    },
    {
      "cell_type": "code",
      "execution_count": 43,
      "metadata": {
        "id": "_Go7Gu6BdoPn"
      },
      "outputs": [],
      "source": [
        "# replace 'indu' with 'industry' in the 'experience' column\n",
        "df['Job Info.'] = df['Job Info.'].str.replace('indu', 'industry')"
      ]
    },
    {
      "cell_type": "code",
      "execution_count": 44,
      "metadata": {
        "id": "7Z_dVkvVdpz1"
      },
      "outputs": [],
      "source": [
        "def remove_single_letters(text):\n",
        "    # split the text into words\n",
        "    words = text.split()\n",
        "\n",
        "    # loop over the words\n",
        "    for i in range(len(words)):\n",
        "        # loop over the letters in the word\n",
        "        j = 0\n",
        "        while j < len(words[i]):\n",
        "            if len(words[i]) == 1 and words[i][j] != 'e':\n",
        "                # if the word has only one letter and it's not 'e', remove it\n",
        "                words[i] = ''\n",
        "                break\n",
        "            else:\n",
        "                j += 1\n",
        "\n",
        "    # join the words back into a string\n",
        "    new_text = ' '.join(words)\n",
        "\n",
        "    return new_text"
      ]
    },
    {
      "cell_type": "code",
      "execution_count": 45,
      "metadata": {
        "id": "BLdPkw2kdrP2"
      },
      "outputs": [],
      "source": [
        "# apply the function to the 'experience' column\n",
        "df['Job Info.'] = df['Job Info.'].apply(remove_single_letters)"
      ]
    },
    {
      "cell_type": "code",
      "execution_count": 46,
      "metadata": {
        "id": "gcW4Ecgcdsy3"
      },
      "outputs": [],
      "source": [
        "# define the function to concatenate \"e\" with the next word\n",
        "def concatenate_e(words):\n",
        "    new_words = []\n",
        "    for i in range(len(words)):\n",
        "        if words[i] == \"e\" and i < len(words) - 1:\n",
        "            new_words.append(words[i] + words[i+1])\n",
        "        elif i > 0 and words[i-1] == \"e\":\n",
        "            continue\n",
        "        else:\n",
        "            new_words.append(words[i])\n",
        "    new_text = \" \".join(new_words)\n",
        "    return new_text"
      ]
    },
    {
      "cell_type": "code",
      "execution_count": 47,
      "metadata": {
        "id": "cLHcX7VRduJX"
      },
      "outputs": [],
      "source": [
        "df['Job Info.'] = df['Job Info.'].apply(lambda x: concatenate_e(x.split()))"
      ]
    },
    {
      "cell_type": "code",
      "execution_count": 47,
      "metadata": {
        "id": "8u8zCVlGeC29"
      },
      "outputs": [],
      "source": []
    },
    {
      "cell_type": "code",
      "execution_count": 48,
      "metadata": {
        "colab": {
          "base_uri": "https://localhost:8080/"
        },
        "id": "3t_Tx2o1d3hN",
        "outputId": "3cf42f1b-89b7-4eb6-8d6f-4af8cf6e6a0b"
      },
      "outputs": [
        {
          "name": "stdout",
          "output_type": "stream",
          "text": [
            "NLTK Downloader\n",
            "---------------------------------------------------------------------------\n",
            "    d) Download   l) List    u) Update   c) Config   h) Help   q) Quit\n",
            "---------------------------------------------------------------------------\n",
            "Downloader> d\n",
            "\n",
            "Download which package (l=list; x=cancel)?\n",
            "  Identifier> stop words\n"
          ]
        },
        {
          "output_type": "stream",
          "name": "stderr",
          "text": [
            "    Error loading stop: Package 'stop' not found in index\n",
            "    Downloading package words to /root/nltk_data...\n",
            "      Package words is already up-to-date!\n"
          ]
        },
        {
          "name": "stdout",
          "output_type": "stream",
          "text": [
            "\n",
            "---------------------------------------------------------------------------\n",
            "    d) Download   l) List    u) Update   c) Config   h) Help   q) Quit\n",
            "---------------------------------------------------------------------------\n",
            "Downloader> q\n"
          ]
        },
        {
          "output_type": "execute_result",
          "data": {
            "text/plain": [
              "True"
            ]
          },
          "metadata": {},
          "execution_count": 48
        }
      ],
      "source": [
        "import re\n",
        "from nltk.corpus import stopwords \n",
        "import string \n",
        "from nltk.stem import WordNetLemmatizer\n",
        "\n",
        "from sklearn.ensemble import RandomForestClassifier ,ExtraTreesClassifier\n",
        "from sklearn.tree import DecisionTreeClassifier ,ExtraTreeClassifier\n",
        "from sklearn.neighbors import KNeighborsClassifier\n",
        "from sklearn.linear_model import LogisticRegression\n",
        "from sklearn.model_selection import train_test_split\n",
        "from sklearn.metrics import accuracy_score ,recall_score,precision_score,f1_score ,classification_report, r2_score ,confusion_matrix\n",
        "from sklearn.preprocessing import StandardScaler\n",
        "from sklearn.naive_bayes import GaussianNB\n",
        "from sklearn.model_selection import GridSearchCV\n",
        "from sklearn.metrics import accuracy_score, classification_report\n",
        "from sklearn.linear_model import LogisticRegression\n",
        "from sklearn.model_selection import GridSearchCV, train_test_split\n",
        "from sklearn.neighbors import KNeighborsClassifier\n",
        "from sklearn.model_selection import GridSearchCV\n",
        "from sklearn.tree import DecisionTreeClassifier\n",
        "from sklearn.model_selection import GridSearchCV\n",
        "from sklearn.model_selection import GridSearchCV\n",
        "from sklearn.ensemble import RandomForestClassifier\n",
        "\n",
        "import pandas as pd\n",
        "import numpy as np\n",
        "import matplotlib.pyplot as plt\n",
        "import seaborn as sns\n",
        "%matplotlib inline\n",
        "\n",
        "import nltk\n",
        "nltk.download()"
      ]
    },
    {
      "cell_type": "code",
      "source": [
        "from sklearn.metrics import confusion_matrix\n",
        "from sklearn.metrics import accuracy_score\n",
        "from sklearn import metrics"
      ],
      "metadata": {
        "id": "vwkU3xQNE7yg"
      },
      "execution_count": 56,
      "outputs": []
    },
    {
      "cell_type": "code",
      "execution_count": 49,
      "metadata": {
        "id": "n5Q6GVk0eH7b"
      },
      "outputs": [],
      "source": [
        "class TextPreprocessing() :\n",
        "    def __init__(self, df : pd.DataFrame = pd.DataFrame) :\n",
        "        self.df = df\n",
        "        \n",
        "        \n",
        "    def Clean(self , df) :\n",
        "        self.df = df\n",
        "        df_copy = df.copy(deep = True)\n",
        "        text_cols = list(df_copy.select_dtypes(include = ['object']).columns)\n",
        "        for col in text_cols :\n",
        "            for idx, text in enumerate(df_copy[col]) :\n",
        "                te = []\n",
        "                word = re.sub(r'(@|#)\\w+' , '' , text)\n",
        "                word = re.sub(\"[,.]\", \"\", word)\n",
        "                word = re.sub(r'https?://\\S+' , '' , word)\n",
        "                word = re.sub(r'(\\?|!)+' , '' , word)\n",
        "                word = re.sub(r\"\\(|\\)\", \"\", word)\n",
        "                word = re.sub(r'(^\\s+)' , '' , word)\n",
        "                word = re.sub(r'(\\s+$)' , '' , word)\n",
        "                word = re.sub(r'\\d+' , '' , word)\n",
        "                word = word.split()\n",
        "                for i in word :\n",
        "                    if (i not in s_words) & (i not in punc) :\n",
        "                        i = i.lower()\n",
        "                        i = lmt.lemmatize(i , 'v')\n",
        "                        te.append(i)\n",
        "                df_copy.at[idx , col] = te\n",
        "        return df_copy\n",
        "    \n",
        "    def Vactorize (self, df , target_name) :\n",
        "        self.df = df\n",
        "        self.target_name = target_name\n",
        "        df_cleaned = df.copy(deep = True)\n",
        "        text_cols = list(df_cleaned.select_dtypes(include = ['object']).columns)\n",
        "        pos_word = {}\n",
        "        neg_word = {}\n",
        "\n",
        "        pos_df = df_cleaned[df_cleaned[target_name] == 1].reset_index(drop=True)\n",
        "        neg_df = df_cleaned[df_cleaned[target_name] == 0].reset_index(drop=True)\n",
        "        \n",
        "        for col in text_cols :\n",
        "\n",
        "            pos_word[col] = [word for sublist in pos_df[col] for word in sublist]\n",
        "            neg_word[col] = [word for sublist in neg_df[col] for word in sublist]\n",
        "\n",
        "\n",
        "\n",
        "        pos_freq = {}\n",
        "        neg_freq = {}\n",
        "        for key in pos_word.keys() :\n",
        "            positive_dict = {}\n",
        "            for word in pos_word[key] :\n",
        "                positive_dict[word] = positive_dict.get(word , 0) + 1\n",
        "\n",
        "            pos_freq[key] = positive_dict\n",
        "\n",
        "\n",
        "        for key in neg_word.keys() :\n",
        "            negative_dict = {}\n",
        "            for word in neg_word[key] :\n",
        "                negative_dict[word] = negative_dict.get(word , 0) + 1\n",
        "\n",
        "            neg_freq[key] = negative_dict\n",
        "            \n",
        "        return pos_freq , neg_freq\n",
        "\n",
        "        \n",
        "        \n",
        "        \n",
        "    def Vactorization (self , df , target_name) :\n",
        "        self.df = df\n",
        "        self.target_name = target_name\n",
        "        df_cleaned = df.copy(deep = True)\n",
        "        text_cols = list(df_cleaned.select_dtypes(include = ['object']).columns)\n",
        "        pos_freq , neg_freq = TextPreprocessing().Vactorize(df_cleaned , target_name)\n",
        "\n",
        "        for col in text_cols :\n",
        "            df_cleaned['{}_pos'.format(col)] = 0\n",
        "            df_cleaned['{}_neg'.format(col)] = 0\n",
        "            for idx, List in enumerate(df_cleaned[col]) :\n",
        "                pos_frequent = 0\n",
        "                neg_frequent = 0\n",
        "                for word in List :\n",
        "                    pos_frequent += pos_freq[col].get(word , 0)\n",
        "                    neg_frequent += neg_freq[col].get(word , 0)\n",
        "\n",
        "\n",
        "\n",
        "                df_cleaned.at[idx ,'{}_pos'.format(col)] = pos_frequent\n",
        "                df_cleaned.at[idx ,'{}_neg'.format(col)] = neg_frequent\n",
        "            df_cleaned.drop([col] , axis = 1 , inplace = True)\n",
        "        return df_cleaned\n",
        "    \n",
        "    \n",
        "    def fit_transform(self , df , target_name) :\n",
        "        self.df = df\n",
        "        self.target_name = target_name\n",
        "        \n",
        "        df_cleaned = TextPreprocessing().Clean(df)\n",
        "        df_vact = TextPreprocessing().Vactorization(df_cleaned , target_name)\n",
        "        \n",
        "        return df_vact\n",
        "    \n",
        "    \n",
        "    def Naive_Bayes(self , df, target_name) :\n",
        "        self.df = df\n",
        "        self.target_name = target_name\n",
        "        df_naive = TextPreprocessing().Clean(df)\n",
        "        pos_freq , neg_freq = TextPreprocessing().Vactorize(df_naive , target_name)\n",
        "        text_cols = list(df_naive.select_dtypes(include = ['object']).columns)\n",
        "        \n",
        "        v_n_pos , v_n_neg = {} , {}\n",
        "\n",
        "        for key in pos_freq.keys() :\n",
        "            v_n_pos[key] = len(pos_freq[key])\n",
        "            n = 0\n",
        "            for word in pos_freq[key] :\n",
        "                n += pos_freq[key].get(word , 0)\n",
        "            v_n_pos[key]+=n\n",
        "        for key in neg_freq.keys() :\n",
        "            v_n_neg[key] = len(neg_freq[key])\n",
        "            n = 0\n",
        "            for word in neg_freq[key] :\n",
        "                n += neg_freq[key].get(word , 0)\n",
        "            v_n_neg[key]+=n\n",
        "            \n",
        "            \n",
        "        prob_pos_dict = {}\n",
        "        for key in pos_freq.keys():\n",
        "            positive_dict = {}\n",
        "            for word in pos_freq[key] :\n",
        "                positive_dict[word] = (pos_freq[key].get(word , 0) + 1) / (v_n_pos[key])\n",
        "            prob_pos_dict[key] = positive_dict\n",
        "\n",
        "\n",
        "\n",
        "\n",
        "        prob_neg_dict = {}\n",
        "        for key in neg_freq.keys():\n",
        "            negative_dict = {}\n",
        "            for word in neg_freq[key] :\n",
        "                negative_dict[word] = (neg_freq[key].get(word , 0) + 1) / (v_n_neg[key])\n",
        "                prob_neg_dict[key] = negative_dict\n",
        "            \n",
        "            \n",
        "            \n",
        "        for col in text_cols :\n",
        "            df_naive['{}_probs'.format(col)] = 0\n",
        "            for idx, List in enumerate(df_naive[col]) :\n",
        "                score = 0\n",
        "                for word in List :\n",
        "                    try :\n",
        "                        b = np.log((prob_pos_dict[col].get(word , 0)) / (prob_neg_dict[col].get(word , 0)))\n",
        "                        if b == -float('inf') :\n",
        "                            pass\n",
        "                        else :\n",
        "                            score +=b\n",
        "                    except :\n",
        "                        pass\n",
        "\n",
        "                df_naive['{}_probs'.format(col)][idx] = score\n",
        "            df_naive.drop([col] , axis = 1 , inplace = True)\n",
        "            \n",
        "            \n",
        "        return {'probs_pos':prob_pos_dict ,'probs_neg':prob_neg_dict } , df_naive   "
      ]
    },
    {
      "cell_type": "code",
      "execution_count": 50,
      "metadata": {
        "id": "0cxj5XZ9eLIG"
      },
      "outputs": [],
      "source": [
        "pre = TextPreprocessing()"
      ]
    },
    {
      "cell_type": "code",
      "execution_count": 51,
      "metadata": {
        "id": "imgwSVfnePLL",
        "colab": {
          "base_uri": "https://localhost:8080/",
          "height": 423
        },
        "outputId": "07b1d336-2d0d-4293-bdc4-b36665dda40a"
      },
      "outputs": [
        {
          "output_type": "execute_result",
          "data": {
            "text/plain": [
              "      telecommuting  company logo exist?  has_questions  employment_type  \\\n",
              "0                 0                    0              1                3   \n",
              "1                 0                    1              1                3   \n",
              "2                 0                    1              0                3   \n",
              "3                 0                    1              0                3   \n",
              "4                 0                    1              1                3   \n",
              "...             ...                  ...            ...              ...   \n",
              "3193              0                    1              1                3   \n",
              "3194              0                    0              1                0   \n",
              "3195              0                    1              1                3   \n",
              "3196              0                    0              0                3   \n",
              "3197              0                    1              0                3   \n",
              "\n",
              "      experience required  education required  fake?  Job Info._pos  \\\n",
              "0                       0                   9      0       22517308   \n",
              "1                       3                   9      0       53771368   \n",
              "2                       4                   9      0       37646325   \n",
              "3                       0                   9      0       10072483   \n",
              "4                       0                   9      0       51139977   \n",
              "...                   ...                 ...    ...            ...   \n",
              "3193                    2                   9      0       64464732   \n",
              "3194                    0                   9      1       28833985   \n",
              "3195                    2                   4      0       42238426   \n",
              "3196                    3                   9      0       55847681   \n",
              "3197                    4                   1      0       40307988   \n",
              "\n",
              "      Job Info._neg  \n",
              "0         521189059  \n",
              "1        1246644048  \n",
              "2         872397379  \n",
              "3         233251791  \n",
              "4        1185952871  \n",
              "...             ...  \n",
              "3193     1492997377  \n",
              "3194      667330929  \n",
              "3195      979752826  \n",
              "3196     1294107418  \n",
              "3197      934332827  \n",
              "\n",
              "[3198 rows x 9 columns]"
            ],
            "text/html": [
              "\n",
              "  <div id=\"df-abe017d5-c56f-4839-8fcf-9745dc0ce641\">\n",
              "    <div class=\"colab-df-container\">\n",
              "      <div>\n",
              "<style scoped>\n",
              "    .dataframe tbody tr th:only-of-type {\n",
              "        vertical-align: middle;\n",
              "    }\n",
              "\n",
              "    .dataframe tbody tr th {\n",
              "        vertical-align: top;\n",
              "    }\n",
              "\n",
              "    .dataframe thead th {\n",
              "        text-align: right;\n",
              "    }\n",
              "</style>\n",
              "<table border=\"1\" class=\"dataframe\">\n",
              "  <thead>\n",
              "    <tr style=\"text-align: right;\">\n",
              "      <th></th>\n",
              "      <th>telecommuting</th>\n",
              "      <th>company logo exist?</th>\n",
              "      <th>has_questions</th>\n",
              "      <th>employment_type</th>\n",
              "      <th>experience required</th>\n",
              "      <th>education required</th>\n",
              "      <th>fake?</th>\n",
              "      <th>Job Info._pos</th>\n",
              "      <th>Job Info._neg</th>\n",
              "    </tr>\n",
              "  </thead>\n",
              "  <tbody>\n",
              "    <tr>\n",
              "      <th>0</th>\n",
              "      <td>0</td>\n",
              "      <td>0</td>\n",
              "      <td>1</td>\n",
              "      <td>3</td>\n",
              "      <td>0</td>\n",
              "      <td>9</td>\n",
              "      <td>0</td>\n",
              "      <td>22517308</td>\n",
              "      <td>521189059</td>\n",
              "    </tr>\n",
              "    <tr>\n",
              "      <th>1</th>\n",
              "      <td>0</td>\n",
              "      <td>1</td>\n",
              "      <td>1</td>\n",
              "      <td>3</td>\n",
              "      <td>3</td>\n",
              "      <td>9</td>\n",
              "      <td>0</td>\n",
              "      <td>53771368</td>\n",
              "      <td>1246644048</td>\n",
              "    </tr>\n",
              "    <tr>\n",
              "      <th>2</th>\n",
              "      <td>0</td>\n",
              "      <td>1</td>\n",
              "      <td>0</td>\n",
              "      <td>3</td>\n",
              "      <td>4</td>\n",
              "      <td>9</td>\n",
              "      <td>0</td>\n",
              "      <td>37646325</td>\n",
              "      <td>872397379</td>\n",
              "    </tr>\n",
              "    <tr>\n",
              "      <th>3</th>\n",
              "      <td>0</td>\n",
              "      <td>1</td>\n",
              "      <td>0</td>\n",
              "      <td>3</td>\n",
              "      <td>0</td>\n",
              "      <td>9</td>\n",
              "      <td>0</td>\n",
              "      <td>10072483</td>\n",
              "      <td>233251791</td>\n",
              "    </tr>\n",
              "    <tr>\n",
              "      <th>4</th>\n",
              "      <td>0</td>\n",
              "      <td>1</td>\n",
              "      <td>1</td>\n",
              "      <td>3</td>\n",
              "      <td>0</td>\n",
              "      <td>9</td>\n",
              "      <td>0</td>\n",
              "      <td>51139977</td>\n",
              "      <td>1185952871</td>\n",
              "    </tr>\n",
              "    <tr>\n",
              "      <th>...</th>\n",
              "      <td>...</td>\n",
              "      <td>...</td>\n",
              "      <td>...</td>\n",
              "      <td>...</td>\n",
              "      <td>...</td>\n",
              "      <td>...</td>\n",
              "      <td>...</td>\n",
              "      <td>...</td>\n",
              "      <td>...</td>\n",
              "    </tr>\n",
              "    <tr>\n",
              "      <th>3193</th>\n",
              "      <td>0</td>\n",
              "      <td>1</td>\n",
              "      <td>1</td>\n",
              "      <td>3</td>\n",
              "      <td>2</td>\n",
              "      <td>9</td>\n",
              "      <td>0</td>\n",
              "      <td>64464732</td>\n",
              "      <td>1492997377</td>\n",
              "    </tr>\n",
              "    <tr>\n",
              "      <th>3194</th>\n",
              "      <td>0</td>\n",
              "      <td>0</td>\n",
              "      <td>1</td>\n",
              "      <td>0</td>\n",
              "      <td>0</td>\n",
              "      <td>9</td>\n",
              "      <td>1</td>\n",
              "      <td>28833985</td>\n",
              "      <td>667330929</td>\n",
              "    </tr>\n",
              "    <tr>\n",
              "      <th>3195</th>\n",
              "      <td>0</td>\n",
              "      <td>1</td>\n",
              "      <td>1</td>\n",
              "      <td>3</td>\n",
              "      <td>2</td>\n",
              "      <td>4</td>\n",
              "      <td>0</td>\n",
              "      <td>42238426</td>\n",
              "      <td>979752826</td>\n",
              "    </tr>\n",
              "    <tr>\n",
              "      <th>3196</th>\n",
              "      <td>0</td>\n",
              "      <td>0</td>\n",
              "      <td>0</td>\n",
              "      <td>3</td>\n",
              "      <td>3</td>\n",
              "      <td>9</td>\n",
              "      <td>0</td>\n",
              "      <td>55847681</td>\n",
              "      <td>1294107418</td>\n",
              "    </tr>\n",
              "    <tr>\n",
              "      <th>3197</th>\n",
              "      <td>0</td>\n",
              "      <td>1</td>\n",
              "      <td>0</td>\n",
              "      <td>3</td>\n",
              "      <td>4</td>\n",
              "      <td>1</td>\n",
              "      <td>0</td>\n",
              "      <td>40307988</td>\n",
              "      <td>934332827</td>\n",
              "    </tr>\n",
              "  </tbody>\n",
              "</table>\n",
              "<p>3198 rows × 9 columns</p>\n",
              "</div>\n",
              "      <button class=\"colab-df-convert\" onclick=\"convertToInteractive('df-abe017d5-c56f-4839-8fcf-9745dc0ce641')\"\n",
              "              title=\"Convert this dataframe to an interactive table.\"\n",
              "              style=\"display:none;\">\n",
              "        \n",
              "  <svg xmlns=\"http://www.w3.org/2000/svg\" height=\"24px\"viewBox=\"0 0 24 24\"\n",
              "       width=\"24px\">\n",
              "    <path d=\"M0 0h24v24H0V0z\" fill=\"none\"/>\n",
              "    <path d=\"M18.56 5.44l.94 2.06.94-2.06 2.06-.94-2.06-.94-.94-2.06-.94 2.06-2.06.94zm-11 1L8.5 8.5l.94-2.06 2.06-.94-2.06-.94L8.5 2.5l-.94 2.06-2.06.94zm10 10l.94 2.06.94-2.06 2.06-.94-2.06-.94-.94-2.06-.94 2.06-2.06.94z\"/><path d=\"M17.41 7.96l-1.37-1.37c-.4-.4-.92-.59-1.43-.59-.52 0-1.04.2-1.43.59L10.3 9.45l-7.72 7.72c-.78.78-.78 2.05 0 2.83L4 21.41c.39.39.9.59 1.41.59.51 0 1.02-.2 1.41-.59l7.78-7.78 2.81-2.81c.8-.78.8-2.07 0-2.86zM5.41 20L4 18.59l7.72-7.72 1.47 1.35L5.41 20z\"/>\n",
              "  </svg>\n",
              "      </button>\n",
              "      \n",
              "  <style>\n",
              "    .colab-df-container {\n",
              "      display:flex;\n",
              "      flex-wrap:wrap;\n",
              "      gap: 12px;\n",
              "    }\n",
              "\n",
              "    .colab-df-convert {\n",
              "      background-color: #E8F0FE;\n",
              "      border: none;\n",
              "      border-radius: 50%;\n",
              "      cursor: pointer;\n",
              "      display: none;\n",
              "      fill: #1967D2;\n",
              "      height: 32px;\n",
              "      padding: 0 0 0 0;\n",
              "      width: 32px;\n",
              "    }\n",
              "\n",
              "    .colab-df-convert:hover {\n",
              "      background-color: #E2EBFA;\n",
              "      box-shadow: 0px 1px 2px rgba(60, 64, 67, 0.3), 0px 1px 3px 1px rgba(60, 64, 67, 0.15);\n",
              "      fill: #174EA6;\n",
              "    }\n",
              "\n",
              "    [theme=dark] .colab-df-convert {\n",
              "      background-color: #3B4455;\n",
              "      fill: #D2E3FC;\n",
              "    }\n",
              "\n",
              "    [theme=dark] .colab-df-convert:hover {\n",
              "      background-color: #434B5C;\n",
              "      box-shadow: 0px 1px 3px 1px rgba(0, 0, 0, 0.15);\n",
              "      filter: drop-shadow(0px 1px 2px rgba(0, 0, 0, 0.3));\n",
              "      fill: #FFFFFF;\n",
              "    }\n",
              "  </style>\n",
              "\n",
              "      <script>\n",
              "        const buttonEl =\n",
              "          document.querySelector('#df-abe017d5-c56f-4839-8fcf-9745dc0ce641 button.colab-df-convert');\n",
              "        buttonEl.style.display =\n",
              "          google.colab.kernel.accessAllowed ? 'block' : 'none';\n",
              "\n",
              "        async function convertToInteractive(key) {\n",
              "          const element = document.querySelector('#df-abe017d5-c56f-4839-8fcf-9745dc0ce641');\n",
              "          const dataTable =\n",
              "            await google.colab.kernel.invokeFunction('convertToInteractive',\n",
              "                                                     [key], {});\n",
              "          if (!dataTable) return;\n",
              "\n",
              "          const docLinkHtml = 'Like what you see? Visit the ' +\n",
              "            '<a target=\"_blank\" href=https://colab.research.google.com/notebooks/data_table.ipynb>data table notebook</a>'\n",
              "            + ' to learn more about interactive tables.';\n",
              "          element.innerHTML = '';\n",
              "          dataTable['output_type'] = 'display_data';\n",
              "          await google.colab.output.renderOutput(dataTable, element);\n",
              "          const docLink = document.createElement('div');\n",
              "          docLink.innerHTML = docLinkHtml;\n",
              "          element.appendChild(docLink);\n",
              "        }\n",
              "      </script>\n",
              "    </div>\n",
              "  </div>\n",
              "  "
            ]
          },
          "metadata": {},
          "execution_count": 51
        }
      ],
      "source": [
        "df_cleaned = pre.Vactorization(df , target_name = 'fake?')\n",
        "df_cleaned"
      ]
    },
    {
      "cell_type": "code",
      "execution_count": 52,
      "metadata": {
        "id": "iicfz85yeSHQ"
      },
      "outputs": [],
      "source": [
        "x = df_cleaned.drop(['fake?'] , axis = 1).values\n",
        "y = df_cleaned['fake?'].values\n"
      ]
    },
    {
      "cell_type": "code",
      "execution_count": 53,
      "metadata": {
        "id": "0hSp9va7dvjO"
      },
      "outputs": [],
      "source": [
        "pickled_model = pickle.load(open('RF_model_CCS', 'rb'))"
      ]
    },
    {
      "cell_type": "code",
      "execution_count": 58,
      "metadata": {
        "id": "_oOCUcWOeXDC",
        "colab": {
          "base_uri": "https://localhost:8080/"
        },
        "outputId": "281a4801-c460-46dc-d83e-e2e000eb8012"
      },
      "outputs": [
        {
          "output_type": "stream",
          "name": "stdout",
          "text": [
            "accuracy of RF': 0.9115071919949969\n",
            "              precision    recall  f1-score   support\n",
            "\n",
            "           0       0.96      0.94      0.95      3030\n",
            "           1       0.26      0.38      0.31       168\n",
            "\n",
            "    accuracy                           0.91      3198\n",
            "   macro avg       0.61      0.66      0.63      3198\n",
            "weighted avg       0.93      0.91      0.92      3198\n",
            "\n"
          ]
        },
        {
          "output_type": "stream",
          "name": "stderr",
          "text": [
            "/usr/local/lib/python3.10/dist-packages/sklearn/base.py:439: UserWarning: X does not have valid feature names, but RandomForestClassifier was fitted with feature names\n",
            "  warnings.warn(\n"
          ]
        }
      ],
      "source": [
        "y_pred = pickled_model.predict(x)\n",
        "\n",
        "print(\"accuracy of RF': {}\".format(accuracy_score(y_pred,y)))\n",
        "print(metrics.classification_report(y,y_pred))"
      ]
    },
    {
      "cell_type": "markdown",
      "source": [
        "\n",
        "# Credits\n",
        "\n",
        "---\n",
        "\n",
        "\n",
        "\n",
        "**Directed By:**\n",
        "\n",
        "Member 1: [Eslam Shouman](https://www.linkedin.com/in/eslam-shouman-0958091b4/)\n",
        "\n",
        "Member 2: [Rawan ibrahim](https://www.linkedin.com/in/rawan-ibrahim-a01778268) \n",
        "\n",
        "Member 3: [Mohamed Mahmoud](https://www.linkedin.com/in/mohamed-mahmoud07) \n",
        "\n",
        "\n",
        "**Date of creation:**\n",
        "\n",
        "- **29 April 2023**"
      ],
      "metadata": {
        "id": "00V7nn2wFRGj"
      }
    },
    {
      "cell_type": "code",
      "source": [],
      "metadata": {
        "id": "sKD5ktKXFRjw"
      },
      "execution_count": null,
      "outputs": []
    }
  ],
  "metadata": {
    "colab": {
      "provenance": []
    },
    "kernelspec": {
      "display_name": "Python 3",
      "name": "python3"
    },
    "language_info": {
      "name": "python"
    }
  },
  "nbformat": 4,
  "nbformat_minor": 0
}